{
 "cells": [
  {
   "cell_type": "markdown",
   "metadata": {},
   "source": [
    "<b><font size=6>Содержание</font></b><a name=\"1common.\"></a>\n",
    "* [0. Описание проекта](#0.)\n",
    "* [1. Описание данных](#1.)\n",
    "    * [1.1. Общая информация о пользователях](#1.1.)\n",
    "    * [1.2. Общая информация о звонках](#1.2.)\n",
    "    * [1.3. Общая информация о сообщениях](#1.3.)\n",
    "    * [1.4. Общая информация об интернет-сессиях](#1.4.)\n",
    "    * [1.5. Общая информация о тарифах](#1.5.)\n",
    "* [2. Добавление новых данных](#2.)\n",
    "    * [2.1. Кол-во звонков и общая продолжительность звонка в разбивке по месяцам](#2.1.)\n",
    "    * [2.2. Кол-во отправленных сообщений по месяцам](#2.2.)\n",
    "    * [2.3. Объем израсходованного интернет-трафика по месяцам](#2.3.)\n",
    "    * [2.4. Помесячная выручка с каждого пользователя](#2.4.)\n",
    "* [3. Анализ данных](#3.)\n",
    "* [4. Проверка гипотез](#4.)\n",
    "    * [4.1. Гипотеза о различии средней выручки для разных тарифов](#4.1.)\n",
    "    * [4.2. Гипотеза о различии средней выручки для пользователей из Москвы и из других регионов](#4.2.)\n",
    "* [5. Общий вывод](#5.)"
   ]
  },
  {
   "cell_type": "markdown",
   "metadata": {},
   "source": [
    "<b><font size=5>Определение перспективного тарифа для телеком компании</font></b><a name=\"0.\"></a><br/>\n",
    "[<font size=\"2\">(к содержанию)</font>](#1common.)\n",
    "\n",
    "«Мегалайн» — федеральный оператор сотовой связи. Клиентам предлагают два тарифных плана: «Смарт» и «Ультра». Чтобы скорректировать рекламный бюджет, коммерческий департамент хочет понять, какой тариф приносит больше денег.\n",
    "Нужно сделать предварительный анализ тарифов на небольшой выборке клиентов. В нашем распоряжении данные 500 пользователей «Мегалайна»: кто они, откуда, каким тарифом пользуются, сколько звонков и сообщений каждый отправил за 2018 год. \n",
    "\n",
    "*Цель:* проанализировать поведение клиентов и сделать вывод — какой тариф лучше."
   ]
  },
  {
   "cell_type": "markdown",
   "metadata": {},
   "source": [
    "<b><font size=3>Описание тарифов</font></b>\n",
    "\n",
    "<b><font size=2>Тариф «Смарт»</font></b>\n",
    "* Ежемесячная плата: 550 рублей\n",
    "* Включено 500 минут разговора, 50 сообщений и 15 Гб интернет-трафика\n",
    "* Стоимость услуг сверх тарифного пакета: \n",
    "    * минута разговора: 3 рубля\n",
    "    * сообщение: 3 рубля\n",
    "    * 1 Гб интернет-трафика: 200 рублей\n",
    "    \n",
    "<b><font size=2>Тариф «Ультра»</font></b>\n",
    "* Ежемесячная плата: 1950 рублей\n",
    "* Включено 3000 минут разговора, 1000 сообщений и 30 Гб интернет-трафика\n",
    "* Стоимость услуг сверх тарифного пакета:\n",
    "    * минута разговора: 1 рубль\n",
    "    * сообщение: 1 рубль\n",
    "    * 1 Гб интернет-трафика: 150 рублей\n",
    "    \n",
    "<b><font size=2>Обратите внимание:</font></b> «Мегалайн» всегда округляет вверх значения минут и мегабайтов. Если пользователь проговорил всего 1 секунду, в тарифе засчитывается целая минута."
   ]
  },
  {
   "cell_type": "markdown",
   "metadata": {},
   "source": [
    "<b><font size=5>1. Описание данных</font></b><a name=\"1.\"></a><br/>\n",
    "[<font size=\"2\">(к содержанию)</font>](#1common.)"
   ]
  },
  {
   "cell_type": "code",
   "execution_count": 1,
   "metadata": {},
   "outputs": [],
   "source": [
    "# импорт всех необходимых библиотек\n",
    "\n",
    "import pandas as pd\n",
    "import numpy as np\n",
    "import matplotlib.pyplot as plt\n",
    "from scipy import stats as st\n",
    "\n",
    "from termcolor import colored\n",
    "\n",
    "import warnings\n",
    "warnings.filterwarnings('ignore')"
   ]
  },
  {
   "cell_type": "code",
   "execution_count": 5,
   "metadata": {},
   "outputs": [],
   "source": [
    "# загрузим все данные\n",
    "\n",
    "users = pd.read_csv('https://code.s3.yandex.net/datasets/users.csv') # информация о пользователях\n",
    "calls = pd.read_csv('https://code.s3.yandex.net/datasets/calls.csv') # информация о звонках\n",
    "messages = pd.read_csv('https://code.s3.yandex.net/datasets/messages.csv') # информация о сообщениях\n",
    "internet = pd.read_csv('https://code.s3.yandex.net/datasets/internet.csv') # информация об интернет-сессиях\n",
    "tariffs = pd.read_csv('https://code.s3.yandex.net/datasets/tariffs.csv') # информация о тарифах"
   ]
  },
  {
   "cell_type": "markdown",
   "metadata": {},
   "source": [
    "<b><font size=3>Описание данных:</font></b>\n",
    "\n",
    "<b><font size=2>Таблица users</font></b> (информация о пользователях):\n",
    "* user_id — уникальный идентификатор пользователя\n",
    "* first_name — имя пользователя\n",
    "* last_name — фамилия пользователя\n",
    "* age — возраст пользователя (годы)\n",
    "* reg_date — дата подключения тарифа (день, месяц, год)\n",
    "* churn_date — дата прекращения пользования тарифом (если значение пропущено, то тариф ещё действовал на момент выгрузки данных)\n",
    "* city — город проживания пользователя\n",
    "* tariff — название тарифного плана\n",
    "\n",
    "<b><font size=2>Таблица calls</font></b> (информация о звонках):\n",
    "* id — уникальный номер звонка\n",
    "* call_date — дата звонка\n",
    "* duration — длительность звонка в минутах\n",
    "* user_id — идентификатор пользователя, сделавшего звонок\n",
    "\n",
    "<b><font size=2>Таблица messages</font></b> (информация о сообщениях):\n",
    "* id — уникальный номер сообщения\n",
    "* message_date — дата сообщения\n",
    "* user_id — идентификатор пользователя, отправившего сообщение\n",
    "\n",
    "<b><font size=2>Таблица internet</font></b> (информация об интернет-сессиях):\n",
    "* id — уникальный номер сессии\n",
    "* mb_used — объём потраченного за сессию интернет-трафика (в мегабайтах)\n",
    "* session_date — дата интернет-сессии\n",
    "* user_id — идентификатор пользователя\n",
    "\n",
    "<b><font size=2>Таблица tariffs</font></b> (информация о тарифах):\n",
    "* tariff_name — название тарифа\n",
    "* rub_monthly_fee — ежемесячная абонентская плата в рублях\n",
    "* minutes_included — количество минут разговора в месяц, включённых в абонентскую плату\n",
    "* messages_included — количество сообщений в месяц, включённых в абонентскую плату\n",
    "* mb_per_month_included — объём интернет-трафика, включённого в абонентскую плату (в мегабайтах)\n",
    "* rub_per_minute — стоимость минуты разговора сверх тарифного пакета (например, если в тарифе 100 минут разговора в месяц, то со 101 минуты будет взиматься плата)\n",
    "* rub_per_message — стоимость отправки сообщения сверх тарифного пакета\n",
    "* rub_per_gb — стоимость дополнительного гигабайта интернет-трафика сверх тарифного пакета (1 гигабайт = 1024 мегабайта)\n"
   ]
  },
  {
   "cell_type": "code",
   "execution_count": 6,
   "metadata": {},
   "outputs": [],
   "source": [
    "def general_info(data):\n",
    "    ''' \n",
    "    Функция принимает на вход датафрейм и возвращает общую информацию о данных.\n",
    "    '''\n",
    "    print('Случайные 5 строк датафрейма')\n",
    "    print('----------------------------')\n",
    "    display(data.sample(5, random_state=42)) # выводим на экран рандомные 5 строк датафрейма\n",
    "    display(data.info())\n",
    "    display(pd.DataFrame(round(data.isna().mean()*100,2)).style.background_gradient('coolwarm')) # выводим процент пропусков \n",
    "                                                                                                 # по каждому столбцу\n",
    "    print('Описательная статистика')\n",
    "    print('-----------------------')\n",
    "    display(round(data.describe().T, 2))"
   ]
  },
  {
   "cell_type": "markdown",
   "metadata": {},
   "source": [
    "Посмотрим более подробно общую информацию по каждой таблице."
   ]
  },
  {
   "cell_type": "markdown",
   "metadata": {},
   "source": [
    "<b><font size=4>1.1. Общая информация о пользователях</font></b><a name=\"1.1.\"></a><br/>\n",
    "[<font size=\"2\">(к содержанию)</font>](#1common.)"
   ]
  },
  {
   "cell_type": "code",
   "execution_count": 7,
   "metadata": {},
   "outputs": [
    {
     "name": "stdout",
     "output_type": "stream",
     "text": [
      "Случайные 5 строк датафрейма\n",
      "----------------------------\n"
     ]
    },
    {
     "data": {
      "text/html": [
       "<div>\n",
       "<style scoped>\n",
       "    .dataframe tbody tr th:only-of-type {\n",
       "        vertical-align: middle;\n",
       "    }\n",
       "\n",
       "    .dataframe tbody tr th {\n",
       "        vertical-align: top;\n",
       "    }\n",
       "\n",
       "    .dataframe thead th {\n",
       "        text-align: right;\n",
       "    }\n",
       "</style>\n",
       "<table border=\"1\" class=\"dataframe\">\n",
       "  <thead>\n",
       "    <tr style=\"text-align: right;\">\n",
       "      <th></th>\n",
       "      <th>user_id</th>\n",
       "      <th>age</th>\n",
       "      <th>churn_date</th>\n",
       "      <th>city</th>\n",
       "      <th>first_name</th>\n",
       "      <th>last_name</th>\n",
       "      <th>reg_date</th>\n",
       "      <th>tariff</th>\n",
       "    </tr>\n",
       "  </thead>\n",
       "  <tbody>\n",
       "    <tr>\n",
       "      <th>361</th>\n",
       "      <td>1361</td>\n",
       "      <td>38</td>\n",
       "      <td>NaN</td>\n",
       "      <td>Екатеринбург</td>\n",
       "      <td>Рената</td>\n",
       "      <td>Кошелева</td>\n",
       "      <td>2018-09-09</td>\n",
       "      <td>ultra</td>\n",
       "    </tr>\n",
       "    <tr>\n",
       "      <th>73</th>\n",
       "      <td>1073</td>\n",
       "      <td>63</td>\n",
       "      <td>NaN</td>\n",
       "      <td>Владикавказ</td>\n",
       "      <td>Гордей</td>\n",
       "      <td>Павловский</td>\n",
       "      <td>2018-10-04</td>\n",
       "      <td>smart</td>\n",
       "    </tr>\n",
       "    <tr>\n",
       "      <th>374</th>\n",
       "      <td>1374</td>\n",
       "      <td>67</td>\n",
       "      <td>NaN</td>\n",
       "      <td>Махачкала</td>\n",
       "      <td>Леонид</td>\n",
       "      <td>Аркадьев</td>\n",
       "      <td>2018-04-01</td>\n",
       "      <td>smart</td>\n",
       "    </tr>\n",
       "    <tr>\n",
       "      <th>155</th>\n",
       "      <td>1155</td>\n",
       "      <td>71</td>\n",
       "      <td>NaN</td>\n",
       "      <td>Ставрополь</td>\n",
       "      <td>Александр</td>\n",
       "      <td>Чернов</td>\n",
       "      <td>2018-01-02</td>\n",
       "      <td>smart</td>\n",
       "    </tr>\n",
       "    <tr>\n",
       "      <th>104</th>\n",
       "      <td>1104</td>\n",
       "      <td>60</td>\n",
       "      <td>NaN</td>\n",
       "      <td>Нижний Тагил</td>\n",
       "      <td>Габриэль</td>\n",
       "      <td>Поляков</td>\n",
       "      <td>2018-02-21</td>\n",
       "      <td>ultra</td>\n",
       "    </tr>\n",
       "  </tbody>\n",
       "</table>\n",
       "</div>"
      ],
      "text/plain": [
       "     user_id  age churn_date          city first_name   last_name    reg_date  \\\n",
       "361     1361   38        NaN  Екатеринбург     Рената    Кошелева  2018-09-09   \n",
       "73      1073   63        NaN   Владикавказ     Гордей  Павловский  2018-10-04   \n",
       "374     1374   67        NaN     Махачкала     Леонид    Аркадьев  2018-04-01   \n",
       "155     1155   71        NaN    Ставрополь  Александр      Чернов  2018-01-02   \n",
       "104     1104   60        NaN  Нижний Тагил   Габриэль     Поляков  2018-02-21   \n",
       "\n",
       "    tariff  \n",
       "361  ultra  \n",
       "73   smart  \n",
       "374  smart  \n",
       "155  smart  \n",
       "104  ultra  "
      ]
     },
     "metadata": {},
     "output_type": "display_data"
    },
    {
     "name": "stdout",
     "output_type": "stream",
     "text": [
      "<class 'pandas.core.frame.DataFrame'>\n",
      "RangeIndex: 500 entries, 0 to 499\n",
      "Data columns (total 8 columns):\n",
      "user_id       500 non-null int64\n",
      "age           500 non-null int64\n",
      "churn_date    38 non-null object\n",
      "city          500 non-null object\n",
      "first_name    500 non-null object\n",
      "last_name     500 non-null object\n",
      "reg_date      500 non-null object\n",
      "tariff        500 non-null object\n",
      "dtypes: int64(2), object(6)\n",
      "memory usage: 31.3+ KB\n"
     ]
    },
    {
     "data": {
      "text/plain": [
       "None"
      ]
     },
     "metadata": {},
     "output_type": "display_data"
    },
    {
     "data": {
      "text/html": [
       "<style  type=\"text/css\" >\n",
       "    #T_33362d26_b89a_11eb_ac4d_54271e242944row0_col0 {\n",
       "            background-color:  #3b4cc0;\n",
       "            color:  #f1f1f1;\n",
       "        }    #T_33362d26_b89a_11eb_ac4d_54271e242944row1_col0 {\n",
       "            background-color:  #3b4cc0;\n",
       "            color:  #f1f1f1;\n",
       "        }    #T_33362d26_b89a_11eb_ac4d_54271e242944row2_col0 {\n",
       "            background-color:  #b40426;\n",
       "            color:  #f1f1f1;\n",
       "        }    #T_33362d26_b89a_11eb_ac4d_54271e242944row3_col0 {\n",
       "            background-color:  #3b4cc0;\n",
       "            color:  #f1f1f1;\n",
       "        }    #T_33362d26_b89a_11eb_ac4d_54271e242944row4_col0 {\n",
       "            background-color:  #3b4cc0;\n",
       "            color:  #f1f1f1;\n",
       "        }    #T_33362d26_b89a_11eb_ac4d_54271e242944row5_col0 {\n",
       "            background-color:  #3b4cc0;\n",
       "            color:  #f1f1f1;\n",
       "        }    #T_33362d26_b89a_11eb_ac4d_54271e242944row6_col0 {\n",
       "            background-color:  #3b4cc0;\n",
       "            color:  #f1f1f1;\n",
       "        }    #T_33362d26_b89a_11eb_ac4d_54271e242944row7_col0 {\n",
       "            background-color:  #3b4cc0;\n",
       "            color:  #f1f1f1;\n",
       "        }</style><table id=\"T_33362d26_b89a_11eb_ac4d_54271e242944\" ><thead>    <tr>        <th class=\"blank level0\" ></th>        <th class=\"col_heading level0 col0\" >0</th>    </tr></thead><tbody>\n",
       "                <tr>\n",
       "                        <th id=\"T_33362d26_b89a_11eb_ac4d_54271e242944level0_row0\" class=\"row_heading level0 row0\" >user_id</th>\n",
       "                        <td id=\"T_33362d26_b89a_11eb_ac4d_54271e242944row0_col0\" class=\"data row0 col0\" >0</td>\n",
       "            </tr>\n",
       "            <tr>\n",
       "                        <th id=\"T_33362d26_b89a_11eb_ac4d_54271e242944level0_row1\" class=\"row_heading level0 row1\" >age</th>\n",
       "                        <td id=\"T_33362d26_b89a_11eb_ac4d_54271e242944row1_col0\" class=\"data row1 col0\" >0</td>\n",
       "            </tr>\n",
       "            <tr>\n",
       "                        <th id=\"T_33362d26_b89a_11eb_ac4d_54271e242944level0_row2\" class=\"row_heading level0 row2\" >churn_date</th>\n",
       "                        <td id=\"T_33362d26_b89a_11eb_ac4d_54271e242944row2_col0\" class=\"data row2 col0\" >92.4</td>\n",
       "            </tr>\n",
       "            <tr>\n",
       "                        <th id=\"T_33362d26_b89a_11eb_ac4d_54271e242944level0_row3\" class=\"row_heading level0 row3\" >city</th>\n",
       "                        <td id=\"T_33362d26_b89a_11eb_ac4d_54271e242944row3_col0\" class=\"data row3 col0\" >0</td>\n",
       "            </tr>\n",
       "            <tr>\n",
       "                        <th id=\"T_33362d26_b89a_11eb_ac4d_54271e242944level0_row4\" class=\"row_heading level0 row4\" >first_name</th>\n",
       "                        <td id=\"T_33362d26_b89a_11eb_ac4d_54271e242944row4_col0\" class=\"data row4 col0\" >0</td>\n",
       "            </tr>\n",
       "            <tr>\n",
       "                        <th id=\"T_33362d26_b89a_11eb_ac4d_54271e242944level0_row5\" class=\"row_heading level0 row5\" >last_name</th>\n",
       "                        <td id=\"T_33362d26_b89a_11eb_ac4d_54271e242944row5_col0\" class=\"data row5 col0\" >0</td>\n",
       "            </tr>\n",
       "            <tr>\n",
       "                        <th id=\"T_33362d26_b89a_11eb_ac4d_54271e242944level0_row6\" class=\"row_heading level0 row6\" >reg_date</th>\n",
       "                        <td id=\"T_33362d26_b89a_11eb_ac4d_54271e242944row6_col0\" class=\"data row6 col0\" >0</td>\n",
       "            </tr>\n",
       "            <tr>\n",
       "                        <th id=\"T_33362d26_b89a_11eb_ac4d_54271e242944level0_row7\" class=\"row_heading level0 row7\" >tariff</th>\n",
       "                        <td id=\"T_33362d26_b89a_11eb_ac4d_54271e242944row7_col0\" class=\"data row7 col0\" >0</td>\n",
       "            </tr>\n",
       "    </tbody></table>"
      ],
      "text/plain": [
       "<pandas.io.formats.style.Styler at 0x1fe78eda780>"
      ]
     },
     "metadata": {},
     "output_type": "display_data"
    },
    {
     "name": "stdout",
     "output_type": "stream",
     "text": [
      "Описательная статистика\n",
      "-----------------------\n"
     ]
    },
    {
     "data": {
      "text/html": [
       "<div>\n",
       "<style scoped>\n",
       "    .dataframe tbody tr th:only-of-type {\n",
       "        vertical-align: middle;\n",
       "    }\n",
       "\n",
       "    .dataframe tbody tr th {\n",
       "        vertical-align: top;\n",
       "    }\n",
       "\n",
       "    .dataframe thead th {\n",
       "        text-align: right;\n",
       "    }\n",
       "</style>\n",
       "<table border=\"1\" class=\"dataframe\">\n",
       "  <thead>\n",
       "    <tr style=\"text-align: right;\">\n",
       "      <th></th>\n",
       "      <th>count</th>\n",
       "      <th>mean</th>\n",
       "      <th>std</th>\n",
       "      <th>min</th>\n",
       "      <th>25%</th>\n",
       "      <th>50%</th>\n",
       "      <th>75%</th>\n",
       "      <th>max</th>\n",
       "    </tr>\n",
       "  </thead>\n",
       "  <tbody>\n",
       "    <tr>\n",
       "      <th>user_id</th>\n",
       "      <td>500.0</td>\n",
       "      <td>1249.50</td>\n",
       "      <td>144.48</td>\n",
       "      <td>1000.0</td>\n",
       "      <td>1124.75</td>\n",
       "      <td>1249.5</td>\n",
       "      <td>1374.25</td>\n",
       "      <td>1499.0</td>\n",
       "    </tr>\n",
       "    <tr>\n",
       "      <th>age</th>\n",
       "      <td>500.0</td>\n",
       "      <td>46.59</td>\n",
       "      <td>16.67</td>\n",
       "      <td>18.0</td>\n",
       "      <td>32.00</td>\n",
       "      <td>46.0</td>\n",
       "      <td>62.00</td>\n",
       "      <td>75.0</td>\n",
       "    </tr>\n",
       "  </tbody>\n",
       "</table>\n",
       "</div>"
      ],
      "text/plain": [
       "         count     mean     std     min      25%     50%      75%     max\n",
       "user_id  500.0  1249.50  144.48  1000.0  1124.75  1249.5  1374.25  1499.0\n",
       "age      500.0    46.59   16.67    18.0    32.00    46.0    62.00    75.0"
      ]
     },
     "metadata": {},
     "output_type": "display_data"
    }
   ],
   "source": [
    "general_info(users)"
   ]
  },
  {
   "cell_type": "markdown",
   "metadata": {},
   "source": [
    "В таблице users в столбце churn_date (дата закрытия договора) 92% пропусков, что означает, что эти люди на момент выгрузки еще пользуются услугами данного оператора. Пока оставим этот столбец бех изменений. В описательной статистике показано, что минимальный возраст пользователей 18 лет, максимальный - 75, при этом средний возраст 47 лет.\n",
    "\n",
    "Изменим типы данных, для уменьшения потребляемой памяти. Изменим тип object в столбце reg_date на тип datetime, а в столбце city на тип category."
   ]
  },
  {
   "cell_type": "code",
   "execution_count": 8,
   "metadata": {},
   "outputs": [],
   "source": [
    "def astype_columns(data):\n",
    "    '''\n",
    "    Функция меняет тип только столбцов с типами int и float на более подходящий (но занимающий меньший объем памяти).\n",
    "    '''\n",
    "    columns_int = data.select_dtypes(include=['int']).columns # выбираем из датасета все столбцы с типом int\n",
    "    data.loc[:, columns_int] = data.loc[:, columns_int].apply(pd.to_numeric, downcast='integer') # меняем тип\n",
    "    \n",
    "    columns_float = data.select_dtypes(include=['float']).columns # аналогично, выбираем с типом float\n",
    "    data.loc[:, columns_float] = data.loc[:, columns_float].apply(pd.to_numeric, downcast='float') # меняем тип\n",
    "    "
   ]
  },
  {
   "cell_type": "code",
   "execution_count": 9,
   "metadata": {},
   "outputs": [],
   "source": [
    "# изменим типы данных\n",
    "\n",
    "astype_columns(users)\n",
    "users['reg_date'] = pd.to_datetime(users['reg_date'], format='%Y-%m-%d')\n",
    "users['city'] = users['city'].astype('category')\n",
    "users['tariff'] = users['tariff'].astype('category')"
   ]
  },
  {
   "cell_type": "code",
   "execution_count": 10,
   "metadata": {},
   "outputs": [
    {
     "name": "stdout",
     "output_type": "stream",
     "text": [
      "<class 'pandas.core.frame.DataFrame'>\n",
      "RangeIndex: 500 entries, 0 to 499\n",
      "Data columns (total 8 columns):\n",
      "user_id       500 non-null int64\n",
      "age           500 non-null int64\n",
      "churn_date    38 non-null object\n",
      "city          500 non-null category\n",
      "first_name    500 non-null object\n",
      "last_name     500 non-null object\n",
      "reg_date      500 non-null datetime64[ns]\n",
      "tariff        500 non-null category\n",
      "dtypes: category(2), datetime64[ns](1), int64(2), object(3)\n",
      "memory usage: 27.7+ KB\n"
     ]
    }
   ],
   "source": [
    "# проверка\n",
    "\n",
    "users.info()"
   ]
  },
  {
   "cell_type": "markdown",
   "metadata": {},
   "source": [
    "Объем потребляемой амяти уменьшился с 31.3 КВ до 27.7 КВ."
   ]
  },
  {
   "cell_type": "code",
   "execution_count": 11,
   "metadata": {},
   "outputs": [
    {
     "data": {
      "text/plain": [
       "0"
      ]
     },
     "execution_count": 11,
     "metadata": {},
     "output_type": "execute_result"
    }
   ],
   "source": [
    "# проверка на дубликаты\n",
    "\n",
    "users.duplicated().sum()"
   ]
  },
  {
   "cell_type": "code",
   "execution_count": 12,
   "metadata": {},
   "outputs": [
    {
     "data": {
      "text/plain": [
       "Москва              99\n",
       "Санкт-Петербург     39\n",
       "Новосибирск         16\n",
       "Омск                14\n",
       "Казань              14\n",
       "Уфа                 12\n",
       "Екатеринбург        11\n",
       "Ульяновск           11\n",
       "Набережные Челны    11\n",
       "Краснодар           11\n",
       "Челябинск            9\n",
       "Самара               9\n",
       "Нижний Новгород      8\n",
       "Пермь                8\n",
       "Волгоград            8\n",
       "Улан-Удэ             7\n",
       "Красноярск           7\n",
       "Вологда              7\n",
       "Новокузнецк          7\n",
       "Киров                6\n",
       "Пенза                6\n",
       "Ростов-на-Дону       6\n",
       "Иркутск              6\n",
       "Тюмень               6\n",
       "Воронеж              6\n",
       "Сочи                 6\n",
       "Томск                6\n",
       "Магнитогорск         5\n",
       "Балашиха             5\n",
       "Ставрополь           5\n",
       "                    ..\n",
       "Брянск               3\n",
       "Ярославль            3\n",
       "Стерлитамак          3\n",
       "Череповец            3\n",
       "Нижний Тагил         3\n",
       "Якутск               3\n",
       "Чебоксары            3\n",
       "Орёл                 3\n",
       "Тверь                3\n",
       "Саратов              3\n",
       "Севастополь          3\n",
       "Курск                2\n",
       "Белгород             2\n",
       "Тула                 2\n",
       "Владикавказ          2\n",
       "Тамбов               2\n",
       "Сургут               2\n",
       "Волжский             2\n",
       "Грозный              2\n",
       "Смоленск             2\n",
       "Липецк               2\n",
       "Ижевск               2\n",
       "Калининград          2\n",
       "Кемерово             2\n",
       "Оренбург             2\n",
       "Иваново              1\n",
       "Подольск             1\n",
       "Химки                1\n",
       "Нижневартовск        1\n",
       "Архангельск          1\n",
       "Name: city, Length: 76, dtype: int64"
      ]
     },
     "execution_count": 12,
     "metadata": {},
     "output_type": "execute_result"
    }
   ],
   "source": [
    "# посмотрим на кол-во городов, из которых наши пользователи\n",
    "\n",
    "users['city'].value_counts()"
   ]
  },
  {
   "cell_type": "markdown",
   "metadata": {},
   "source": [
    "Всего 76 различных городов. Теперь посмотрим разбивку пользователей на два тарифа \"смарт\" и \"ультра\"."
   ]
  },
  {
   "cell_type": "code",
   "execution_count": 13,
   "metadata": {},
   "outputs": [
    {
     "data": {
      "text/plain": [
       "smart    0.702\n",
       "ultra    0.298\n",
       "Name: tariff, dtype: float64"
      ]
     },
     "execution_count": 13,
     "metadata": {},
     "output_type": "execute_result"
    }
   ],
   "source": [
    "users['tariff'].value_counts(normalize=True)"
   ]
  },
  {
   "cell_type": "markdown",
   "metadata": {},
   "source": [
    "Видим, что пользователей c тарифом \"Смарт\" 70%, а с тарифом \"ультра\" 30%."
   ]
  },
  {
   "cell_type": "code",
   "execution_count": 12,
   "metadata": {},
   "outputs": [
    {
     "name": "stdout",
     "output_type": "stream",
     "text": [
      "Минимальная дата заключения договора: 2018-01-01 00:00:00\n",
      "Максимальная дата заключения договора: 2018-12-31 00:00:00\n"
     ]
    }
   ],
   "source": [
    "print('Минимальная дата заключения договора:', users['reg_date'].min())\n",
    "print('Максимальная дата заключения договора:', users['reg_date'].max())"
   ]
  },
  {
   "cell_type": "markdown",
   "metadata": {},
   "source": [
    "Получается, что у нас выборка клиентов, которые заключили договор в 2018г. И нам нужно проанализировать их активность также за 2018г. Стоит в дальнейшем учесть клиентов, которые подключились в конце 2018г, т.к. у них активность пользования тарифами может быть ниже, чем у тех кто подключился в начале года."
   ]
  },
  {
   "cell_type": "markdown",
   "metadata": {},
   "source": [
    "<b><font size=3>Вывод</font></b><br/>\n",
    "\n",
    "Поменяли типы данных с столбцах с типами int и float на типы, которые потребляют меньше памяти. В столбце reg_date сменили тип с object на  datetime, в столбце city сменили тип с object на category.\n",
    "\n",
    "Дубликатов не обнаружено.\n",
    "\n",
    "Из 500 пользователей в выборке 70% - это пользователи тарифом \"смарт\", 30% - тарифом \"ультра\". Все пользователи подключились в 2018г. Из них на момент выгрузки данных 92% являются абонентами компании, 8% - отключили услуги компании."
   ]
  },
  {
   "cell_type": "markdown",
   "metadata": {},
   "source": [
    "<b><font size=4>1.2. Общая информация о звонках</font></b><a name=\"1.2.\"></a><br/>\n",
    "[<font size=\"2\">(к содержанию)</font>](#1common.)"
   ]
  },
  {
   "cell_type": "code",
   "execution_count": 13,
   "metadata": {},
   "outputs": [
    {
     "name": "stdout",
     "output_type": "stream",
     "text": [
      "Случайные 5 строк датафрейма\n",
      "----------------------------\n"
     ]
    },
    {
     "data": {
      "text/html": [
       "<div>\n",
       "<style scoped>\n",
       "    .dataframe tbody tr th:only-of-type {\n",
       "        vertical-align: middle;\n",
       "    }\n",
       "\n",
       "    .dataframe tbody tr th {\n",
       "        vertical-align: top;\n",
       "    }\n",
       "\n",
       "    .dataframe thead th {\n",
       "        text-align: right;\n",
       "    }\n",
       "</style>\n",
       "<table border=\"1\" class=\"dataframe\">\n",
       "  <thead>\n",
       "    <tr style=\"text-align: right;\">\n",
       "      <th></th>\n",
       "      <th>id</th>\n",
       "      <th>call_date</th>\n",
       "      <th>duration</th>\n",
       "      <th>user_id</th>\n",
       "    </tr>\n",
       "  </thead>\n",
       "  <tbody>\n",
       "    <tr>\n",
       "      <td>158741</td>\n",
       "      <td>1392_406</td>\n",
       "      <td>2018-07-09</td>\n",
       "      <td>4.94</td>\n",
       "      <td>1392</td>\n",
       "    </tr>\n",
       "    <tr>\n",
       "      <td>95947</td>\n",
       "      <td>1244_202</td>\n",
       "      <td>2018-11-09</td>\n",
       "      <td>0.00</td>\n",
       "      <td>1244</td>\n",
       "    </tr>\n",
       "    <tr>\n",
       "      <td>10624</td>\n",
       "      <td>1027_494</td>\n",
       "      <td>2018-10-07</td>\n",
       "      <td>3.10</td>\n",
       "      <td>1027</td>\n",
       "    </tr>\n",
       "    <tr>\n",
       "      <td>167423</td>\n",
       "      <td>1412_340</td>\n",
       "      <td>2018-09-25</td>\n",
       "      <td>5.91</td>\n",
       "      <td>1412</td>\n",
       "    </tr>\n",
       "    <tr>\n",
       "      <td>73194</td>\n",
       "      <td>1184_168</td>\n",
       "      <td>2018-09-03</td>\n",
       "      <td>9.86</td>\n",
       "      <td>1184</td>\n",
       "    </tr>\n",
       "  </tbody>\n",
       "</table>\n",
       "</div>"
      ],
      "text/plain": [
       "              id   call_date  duration  user_id\n",
       "158741  1392_406  2018-07-09      4.94     1392\n",
       "95947   1244_202  2018-11-09      0.00     1244\n",
       "10624   1027_494  2018-10-07      3.10     1027\n",
       "167423  1412_340  2018-09-25      5.91     1412\n",
       "73194   1184_168  2018-09-03      9.86     1184"
      ]
     },
     "metadata": {},
     "output_type": "display_data"
    },
    {
     "name": "stdout",
     "output_type": "stream",
     "text": [
      "<class 'pandas.core.frame.DataFrame'>\n",
      "RangeIndex: 202607 entries, 0 to 202606\n",
      "Data columns (total 4 columns):\n",
      "id           202607 non-null object\n",
      "call_date    202607 non-null object\n",
      "duration     202607 non-null float64\n",
      "user_id      202607 non-null int64\n",
      "dtypes: float64(1), int64(1), object(2)\n",
      "memory usage: 6.2+ MB\n"
     ]
    },
    {
     "data": {
      "text/plain": [
       "None"
      ]
     },
     "metadata": {},
     "output_type": "display_data"
    },
    {
     "data": {
      "text/html": [
       "<style  type=\"text/css\" >\n",
       "    #T_a7a463a0_82d6_11eb_b602_02420a396756row0_col0 {\n",
       "            background-color:  #3b4cc0;\n",
       "            color:  #f1f1f1;\n",
       "        }    #T_a7a463a0_82d6_11eb_b602_02420a396756row1_col0 {\n",
       "            background-color:  #3b4cc0;\n",
       "            color:  #f1f1f1;\n",
       "        }    #T_a7a463a0_82d6_11eb_b602_02420a396756row2_col0 {\n",
       "            background-color:  #3b4cc0;\n",
       "            color:  #f1f1f1;\n",
       "        }    #T_a7a463a0_82d6_11eb_b602_02420a396756row3_col0 {\n",
       "            background-color:  #3b4cc0;\n",
       "            color:  #f1f1f1;\n",
       "        }</style><table id=\"T_a7a463a0_82d6_11eb_b602_02420a396756\" ><thead>    <tr>        <th class=\"blank level0\" ></th>        <th class=\"col_heading level0 col0\" >0</th>    </tr></thead><tbody>\n",
       "                <tr>\n",
       "                        <th id=\"T_a7a463a0_82d6_11eb_b602_02420a396756level0_row0\" class=\"row_heading level0 row0\" >id</th>\n",
       "                        <td id=\"T_a7a463a0_82d6_11eb_b602_02420a396756row0_col0\" class=\"data row0 col0\" >0</td>\n",
       "            </tr>\n",
       "            <tr>\n",
       "                        <th id=\"T_a7a463a0_82d6_11eb_b602_02420a396756level0_row1\" class=\"row_heading level0 row1\" >call_date</th>\n",
       "                        <td id=\"T_a7a463a0_82d6_11eb_b602_02420a396756row1_col0\" class=\"data row1 col0\" >0</td>\n",
       "            </tr>\n",
       "            <tr>\n",
       "                        <th id=\"T_a7a463a0_82d6_11eb_b602_02420a396756level0_row2\" class=\"row_heading level0 row2\" >duration</th>\n",
       "                        <td id=\"T_a7a463a0_82d6_11eb_b602_02420a396756row2_col0\" class=\"data row2 col0\" >0</td>\n",
       "            </tr>\n",
       "            <tr>\n",
       "                        <th id=\"T_a7a463a0_82d6_11eb_b602_02420a396756level0_row3\" class=\"row_heading level0 row3\" >user_id</th>\n",
       "                        <td id=\"T_a7a463a0_82d6_11eb_b602_02420a396756row3_col0\" class=\"data row3 col0\" >0</td>\n",
       "            </tr>\n",
       "    </tbody></table>"
      ],
      "text/plain": [
       "<pandas.io.formats.style.Styler at 0x7f8c37c45650>"
      ]
     },
     "metadata": {},
     "output_type": "display_data"
    }
   ],
   "source": [
    "general_info(calls)"
   ]
  },
  {
   "cell_type": "markdown",
   "metadata": {},
   "source": [
    "Пропусков нет, это радует! Проделаем тоже самое для таблицы calls: изменим типы данных, поищем дубликаты, проанализируем столбец duration (длительность звонка).\n",
    "\n"
   ]
  },
  {
   "cell_type": "code",
   "execution_count": 14,
   "metadata": {},
   "outputs": [],
   "source": [
    "# изменяем типы данных\n",
    "\n",
    "astype_columns(calls)\n",
    "calls['call_date'] = pd.to_datetime(calls['call_date'], format='%Y-%m-%d')"
   ]
  },
  {
   "cell_type": "code",
   "execution_count": 15,
   "metadata": {},
   "outputs": [
    {
     "name": "stdout",
     "output_type": "stream",
     "text": [
      "<class 'pandas.core.frame.DataFrame'>\n",
      "RangeIndex: 202607 entries, 0 to 202606\n",
      "Data columns (total 4 columns):\n",
      "id           202607 non-null object\n",
      "call_date    202607 non-null datetime64[ns]\n",
      "duration     202607 non-null float32\n",
      "user_id      202607 non-null int16\n",
      "dtypes: datetime64[ns](1), float32(1), int16(1), object(1)\n",
      "memory usage: 4.3+ MB\n"
     ]
    }
   ],
   "source": [
    "# проверка\n",
    "\n",
    "calls.info()"
   ]
  },
  {
   "cell_type": "code",
   "execution_count": 16,
   "metadata": {},
   "outputs": [
    {
     "data": {
      "text/plain": [
       "0"
      ]
     },
     "execution_count": 16,
     "metadata": {},
     "output_type": "execute_result"
    }
   ],
   "source": [
    "# проверка на дубликаты\n",
    "\n",
    "calls.duplicated().sum()"
   ]
  },
  {
   "cell_type": "markdown",
   "metadata": {},
   "source": [
    "Дубликатов не найдено. А объем памяти уменьшился на 30%. Посмотрим какие значения может принимать столбец \"длительность звонка\"."
   ]
  },
  {
   "cell_type": "code",
   "execution_count": 17,
   "metadata": {},
   "outputs": [
    {
     "data": {
      "text/plain": [
       "count    202607.000000\n",
       "mean          6.755887\n",
       "std           5.843365\n",
       "min           0.000000\n",
       "25%           1.300000\n",
       "50%           6.000000\n",
       "75%          10.700000\n",
       "max          38.000000\n",
       "Name: duration, dtype: float64"
      ]
     },
     "execution_count": 17,
     "metadata": {},
     "output_type": "execute_result"
    }
   ],
   "source": [
    "calls['duration'].describe()"
   ]
  },
  {
   "cell_type": "markdown",
   "metadata": {},
   "source": [
    "Есть звонки длительностью 0 минут, при этом 75% значений данных лежит в пределах длительности звонка до 10 минут. Посмотрим поближе на звонки длительностью 0 минут."
   ]
  },
  {
   "cell_type": "code",
   "execution_count": 18,
   "metadata": {},
   "outputs": [
    {
     "data": {
      "text/html": [
       "<div>\n",
       "<style scoped>\n",
       "    .dataframe tbody tr th:only-of-type {\n",
       "        vertical-align: middle;\n",
       "    }\n",
       "\n",
       "    .dataframe tbody tr th {\n",
       "        vertical-align: top;\n",
       "    }\n",
       "\n",
       "    .dataframe thead th {\n",
       "        text-align: right;\n",
       "    }\n",
       "</style>\n",
       "<table border=\"1\" class=\"dataframe\">\n",
       "  <thead>\n",
       "    <tr style=\"text-align: right;\">\n",
       "      <th></th>\n",
       "      <th>id</th>\n",
       "      <th>call_date</th>\n",
       "      <th>duration</th>\n",
       "      <th>user_id</th>\n",
       "    </tr>\n",
       "  </thead>\n",
       "  <tbody>\n",
       "    <tr>\n",
       "      <td>0</td>\n",
       "      <td>1000_0</td>\n",
       "      <td>2018-07-25</td>\n",
       "      <td>0.0</td>\n",
       "      <td>1000</td>\n",
       "    </tr>\n",
       "    <tr>\n",
       "      <td>1</td>\n",
       "      <td>1000_1</td>\n",
       "      <td>2018-08-17</td>\n",
       "      <td>0.0</td>\n",
       "      <td>1000</td>\n",
       "    </tr>\n",
       "    <tr>\n",
       "      <td>5</td>\n",
       "      <td>1000_5</td>\n",
       "      <td>2018-11-02</td>\n",
       "      <td>0.0</td>\n",
       "      <td>1000</td>\n",
       "    </tr>\n",
       "    <tr>\n",
       "      <td>6</td>\n",
       "      <td>1000_6</td>\n",
       "      <td>2018-10-18</td>\n",
       "      <td>0.0</td>\n",
       "      <td>1000</td>\n",
       "    </tr>\n",
       "    <tr>\n",
       "      <td>9</td>\n",
       "      <td>1000_9</td>\n",
       "      <td>2018-08-15</td>\n",
       "      <td>0.0</td>\n",
       "      <td>1000</td>\n",
       "    </tr>\n",
       "    <tr>\n",
       "      <td>...</td>\n",
       "      <td>...</td>\n",
       "      <td>...</td>\n",
       "      <td>...</td>\n",
       "      <td>...</td>\n",
       "    </tr>\n",
       "    <tr>\n",
       "      <td>202590</td>\n",
       "      <td>1499_203</td>\n",
       "      <td>2018-12-03</td>\n",
       "      <td>0.0</td>\n",
       "      <td>1499</td>\n",
       "    </tr>\n",
       "    <tr>\n",
       "      <td>202592</td>\n",
       "      <td>1499_205</td>\n",
       "      <td>2018-10-13</td>\n",
       "      <td>0.0</td>\n",
       "      <td>1499</td>\n",
       "    </tr>\n",
       "    <tr>\n",
       "      <td>202593</td>\n",
       "      <td>1499_206</td>\n",
       "      <td>2018-12-26</td>\n",
       "      <td>0.0</td>\n",
       "      <td>1499</td>\n",
       "    </tr>\n",
       "    <tr>\n",
       "      <td>202594</td>\n",
       "      <td>1499_207</td>\n",
       "      <td>2018-10-28</td>\n",
       "      <td>0.0</td>\n",
       "      <td>1499</td>\n",
       "    </tr>\n",
       "    <tr>\n",
       "      <td>202596</td>\n",
       "      <td>1499_209</td>\n",
       "      <td>2018-12-16</td>\n",
       "      <td>0.0</td>\n",
       "      <td>1499</td>\n",
       "    </tr>\n",
       "  </tbody>\n",
       "</table>\n",
       "<p>39613 rows × 4 columns</p>\n",
       "</div>"
      ],
      "text/plain": [
       "              id  call_date  duration  user_id\n",
       "0         1000_0 2018-07-25       0.0     1000\n",
       "1         1000_1 2018-08-17       0.0     1000\n",
       "5         1000_5 2018-11-02       0.0     1000\n",
       "6         1000_6 2018-10-18       0.0     1000\n",
       "9         1000_9 2018-08-15       0.0     1000\n",
       "...          ...        ...       ...      ...\n",
       "202590  1499_203 2018-12-03       0.0     1499\n",
       "202592  1499_205 2018-10-13       0.0     1499\n",
       "202593  1499_206 2018-12-26       0.0     1499\n",
       "202594  1499_207 2018-10-28       0.0     1499\n",
       "202596  1499_209 2018-12-16       0.0     1499\n",
       "\n",
       "[39613 rows x 4 columns]"
      ]
     },
     "execution_count": 18,
     "metadata": {},
     "output_type": "execute_result"
    }
   ],
   "source": [
    "calls.loc[calls['duration'] == 0]"
   ]
  },
  {
   "cell_type": "markdown",
   "metadata": {},
   "source": [
    "Звонки с длительностью 0 минут составляют 19.5% от всего датасета. Очень похоже, что это пропущенные звонки. Оставим их в таблице без изменений.\n",
    "\n",
    "Посмотрим на минимальную и максималью даты звонка."
   ]
  },
  {
   "cell_type": "markdown",
   "metadata": {},
   "source": [
    "<div class=\"alert alert-block alert-success\">\n",
    "<b>Комментарий ревьюера</b>\n",
    "\n",
    "Согласен с решением.\n",
    "\n",
    "</div>\n"
   ]
  },
  {
   "cell_type": "code",
   "execution_count": 19,
   "metadata": {},
   "outputs": [
    {
     "name": "stdout",
     "output_type": "stream",
     "text": [
      "Минимальная дата звонка: 2018-01-01 00:00:00\n",
      "Максимальная дата звонка: 2018-12-31 00:00:00\n"
     ]
    }
   ],
   "source": [
    "print('Минимальная дата звонка:', calls['call_date'].min())\n",
    "print('Максимальная дата звонка:', calls['call_date'].max())"
   ]
  },
  {
   "cell_type": "markdown",
   "metadata": {},
   "source": [
    "С датами звонка все в порядке, они также в 2018г."
   ]
  },
  {
   "cell_type": "markdown",
   "metadata": {},
   "source": [
    "<b><font size=3>Вывод</font></b><br/>\n",
    "\n",
    "Поменяли типы данных с столбцах с типами int и float на типы, которые потребляют меньше памяти. В столбце call_date сменили тип с object на  datetime.\n",
    "\n",
    "Дубликатов и пропущенных значений не обнаружено.\n",
    "\n",
    "Нашли звонки с длительностью 0 минут. Они составляют 19.5% от всего датасета. Очень похоже, что это пропущенные звонки. Оставили их в таблице без изменений. Все звонки в датасете были сделаны в 2018г."
   ]
  },
  {
   "cell_type": "markdown",
   "metadata": {},
   "source": [
    "<b><font size=4>1.3. Общая информация о сообщениях</font></b><a name=\"1.3.\"></a><br/>\n",
    "[<font size=\"2\">(к содержанию)</font>](#1common.)"
   ]
  },
  {
   "cell_type": "code",
   "execution_count": 20,
   "metadata": {},
   "outputs": [
    {
     "name": "stdout",
     "output_type": "stream",
     "text": [
      "Случайные 5 строк датафрейма\n",
      "----------------------------\n"
     ]
    },
    {
     "data": {
      "text/html": [
       "<div>\n",
       "<style scoped>\n",
       "    .dataframe tbody tr th:only-of-type {\n",
       "        vertical-align: middle;\n",
       "    }\n",
       "\n",
       "    .dataframe tbody tr th {\n",
       "        vertical-align: top;\n",
       "    }\n",
       "\n",
       "    .dataframe thead th {\n",
       "        text-align: right;\n",
       "    }\n",
       "</style>\n",
       "<table border=\"1\" class=\"dataframe\">\n",
       "  <thead>\n",
       "    <tr style=\"text-align: right;\">\n",
       "      <th></th>\n",
       "      <th>id</th>\n",
       "      <th>message_date</th>\n",
       "      <th>user_id</th>\n",
       "    </tr>\n",
       "  </thead>\n",
       "  <tbody>\n",
       "    <tr>\n",
       "      <td>8581</td>\n",
       "      <td>1033_332</td>\n",
       "      <td>2018-11-08</td>\n",
       "      <td>1033</td>\n",
       "    </tr>\n",
       "    <tr>\n",
       "      <td>12476</td>\n",
       "      <td>1054_32</td>\n",
       "      <td>2018-08-10</td>\n",
       "      <td>1054</td>\n",
       "    </tr>\n",
       "    <tr>\n",
       "      <td>14805</td>\n",
       "      <td>1065_141</td>\n",
       "      <td>2018-05-29</td>\n",
       "      <td>1065</td>\n",
       "    </tr>\n",
       "    <tr>\n",
       "      <td>118278</td>\n",
       "      <td>1481_49</td>\n",
       "      <td>2018-05-24</td>\n",
       "      <td>1481</td>\n",
       "    </tr>\n",
       "    <tr>\n",
       "      <td>23803</td>\n",
       "      <td>1099_10</td>\n",
       "      <td>2018-08-24</td>\n",
       "      <td>1099</td>\n",
       "    </tr>\n",
       "  </tbody>\n",
       "</table>\n",
       "</div>"
      ],
      "text/plain": [
       "              id message_date  user_id\n",
       "8581    1033_332   2018-11-08     1033\n",
       "12476    1054_32   2018-08-10     1054\n",
       "14805   1065_141   2018-05-29     1065\n",
       "118278   1481_49   2018-05-24     1481\n",
       "23803    1099_10   2018-08-24     1099"
      ]
     },
     "metadata": {},
     "output_type": "display_data"
    },
    {
     "name": "stdout",
     "output_type": "stream",
     "text": [
      "<class 'pandas.core.frame.DataFrame'>\n",
      "RangeIndex: 123036 entries, 0 to 123035\n",
      "Data columns (total 3 columns):\n",
      "id              123036 non-null object\n",
      "message_date    123036 non-null object\n",
      "user_id         123036 non-null int64\n",
      "dtypes: int64(1), object(2)\n",
      "memory usage: 2.8+ MB\n"
     ]
    },
    {
     "data": {
      "text/plain": [
       "None"
      ]
     },
     "metadata": {},
     "output_type": "display_data"
    },
    {
     "data": {
      "text/html": [
       "<style  type=\"text/css\" >\n",
       "    #T_a7e65a80_82d6_11eb_b602_02420a396756row0_col0 {\n",
       "            background-color:  #3b4cc0;\n",
       "            color:  #f1f1f1;\n",
       "        }    #T_a7e65a80_82d6_11eb_b602_02420a396756row1_col0 {\n",
       "            background-color:  #3b4cc0;\n",
       "            color:  #f1f1f1;\n",
       "        }    #T_a7e65a80_82d6_11eb_b602_02420a396756row2_col0 {\n",
       "            background-color:  #3b4cc0;\n",
       "            color:  #f1f1f1;\n",
       "        }</style><table id=\"T_a7e65a80_82d6_11eb_b602_02420a396756\" ><thead>    <tr>        <th class=\"blank level0\" ></th>        <th class=\"col_heading level0 col0\" >0</th>    </tr></thead><tbody>\n",
       "                <tr>\n",
       "                        <th id=\"T_a7e65a80_82d6_11eb_b602_02420a396756level0_row0\" class=\"row_heading level0 row0\" >id</th>\n",
       "                        <td id=\"T_a7e65a80_82d6_11eb_b602_02420a396756row0_col0\" class=\"data row0 col0\" >0</td>\n",
       "            </tr>\n",
       "            <tr>\n",
       "                        <th id=\"T_a7e65a80_82d6_11eb_b602_02420a396756level0_row1\" class=\"row_heading level0 row1\" >message_date</th>\n",
       "                        <td id=\"T_a7e65a80_82d6_11eb_b602_02420a396756row1_col0\" class=\"data row1 col0\" >0</td>\n",
       "            </tr>\n",
       "            <tr>\n",
       "                        <th id=\"T_a7e65a80_82d6_11eb_b602_02420a396756level0_row2\" class=\"row_heading level0 row2\" >user_id</th>\n",
       "                        <td id=\"T_a7e65a80_82d6_11eb_b602_02420a396756row2_col0\" class=\"data row2 col0\" >0</td>\n",
       "            </tr>\n",
       "    </tbody></table>"
      ],
      "text/plain": [
       "<pandas.io.formats.style.Styler at 0x7f8c37c51410>"
      ]
     },
     "metadata": {},
     "output_type": "display_data"
    }
   ],
   "source": [
    "general_info(messages)"
   ]
  },
  {
   "cell_type": "markdown",
   "metadata": {},
   "source": [
    "Пропущенных значений нет. Изменим типы данных, проверим данные на дубликаты, проанализируем дату сообщения."
   ]
  },
  {
   "cell_type": "code",
   "execution_count": 21,
   "metadata": {},
   "outputs": [],
   "source": [
    "astype_columns(messages)\n",
    "messages['message_date'] = pd.to_datetime(messages['message_date'], format='%Y-%m-%d')"
   ]
  },
  {
   "cell_type": "code",
   "execution_count": 22,
   "metadata": {},
   "outputs": [
    {
     "name": "stdout",
     "output_type": "stream",
     "text": [
      "<class 'pandas.core.frame.DataFrame'>\n",
      "RangeIndex: 123036 entries, 0 to 123035\n",
      "Data columns (total 3 columns):\n",
      "id              123036 non-null object\n",
      "message_date    123036 non-null datetime64[ns]\n",
      "user_id         123036 non-null int16\n",
      "dtypes: datetime64[ns](1), int16(1), object(1)\n",
      "memory usage: 2.1+ MB\n"
     ]
    }
   ],
   "source": [
    "# проверка\n",
    "\n",
    "messages.info()"
   ]
  },
  {
   "cell_type": "markdown",
   "metadata": {},
   "source": [
    "Немного уменьшился объем потребляемой памяти, тип даты сообщения сменили с object на datetime. Посмотрим на максимальную и минимальную дату отправки сообщения."
   ]
  },
  {
   "cell_type": "code",
   "execution_count": 23,
   "metadata": {},
   "outputs": [
    {
     "name": "stdout",
     "output_type": "stream",
     "text": [
      "Минимальная дата сообщения: 2018-01-02 00:00:00\n",
      "Максимальная дата сообщения: 2018-12-31 00:00:00\n"
     ]
    }
   ],
   "source": [
    "print('Минимальная дата сообщения:', messages['message_date'].min())\n",
    "print('Максимальная дата сообщения:', messages['message_date'].max())"
   ]
  },
  {
   "cell_type": "code",
   "execution_count": 24,
   "metadata": {},
   "outputs": [
    {
     "data": {
      "text/plain": [
       "0"
      ]
     },
     "execution_count": 24,
     "metadata": {},
     "output_type": "execute_result"
    }
   ],
   "source": [
    "# поиск дубликатов\n",
    "\n",
    "messages.duplicated().sum()"
   ]
  },
  {
   "cell_type": "markdown",
   "metadata": {},
   "source": [
    "<b><font size=3>Вывод</font></b><br/>\n",
    "\n",
    "Поменяли типы данных с столбцах с типом int  на тип, который потребляет меньше памяти. В столбце message_date сменили тип с object на datetime.\n",
    "\n",
    "Дубликатов и пропущенных значений не обнаружено.\n",
    "\n",
    "Все сообщения были отправлены в 2018г."
   ]
  },
  {
   "cell_type": "markdown",
   "metadata": {},
   "source": [
    "<b><font size=4>1.4. Общая информация об интернет-сессиях</font></b><a name=\"1.4.\"></a><br/>\n",
    "[<font size=\"2\">(к содержанию)</font>](#1common.)"
   ]
  },
  {
   "cell_type": "code",
   "execution_count": 25,
   "metadata": {},
   "outputs": [
    {
     "name": "stdout",
     "output_type": "stream",
     "text": [
      "Случайные 5 строк датафрейма\n",
      "----------------------------\n"
     ]
    },
    {
     "data": {
      "text/html": [
       "<div>\n",
       "<style scoped>\n",
       "    .dataframe tbody tr th:only-of-type {\n",
       "        vertical-align: middle;\n",
       "    }\n",
       "\n",
       "    .dataframe tbody tr th {\n",
       "        vertical-align: top;\n",
       "    }\n",
       "\n",
       "    .dataframe thead th {\n",
       "        text-align: right;\n",
       "    }\n",
       "</style>\n",
       "<table border=\"1\" class=\"dataframe\">\n",
       "  <thead>\n",
       "    <tr style=\"text-align: right;\">\n",
       "      <th></th>\n",
       "      <th>Unnamed: 0</th>\n",
       "      <th>id</th>\n",
       "      <th>mb_used</th>\n",
       "      <th>session_date</th>\n",
       "      <th>user_id</th>\n",
       "    </tr>\n",
       "  </thead>\n",
       "  <tbody>\n",
       "    <tr>\n",
       "      <td>31737</td>\n",
       "      <td>31737</td>\n",
       "      <td>1110_331</td>\n",
       "      <td>351.71</td>\n",
       "      <td>2018-09-04</td>\n",
       "      <td>1110</td>\n",
       "    </tr>\n",
       "    <tr>\n",
       "      <td>31333</td>\n",
       "      <td>31333</td>\n",
       "      <td>1109_399</td>\n",
       "      <td>257.69</td>\n",
       "      <td>2018-06-09</td>\n",
       "      <td>1109</td>\n",
       "    </tr>\n",
       "    <tr>\n",
       "      <td>61121</td>\n",
       "      <td>61121</td>\n",
       "      <td>1207_191</td>\n",
       "      <td>128.18</td>\n",
       "      <td>2018-11-05</td>\n",
       "      <td>1207</td>\n",
       "    </tr>\n",
       "    <tr>\n",
       "      <td>71184</td>\n",
       "      <td>71184</td>\n",
       "      <td>1241_88</td>\n",
       "      <td>736.71</td>\n",
       "      <td>2018-11-23</td>\n",
       "      <td>1241</td>\n",
       "    </tr>\n",
       "    <tr>\n",
       "      <td>84394</td>\n",
       "      <td>84394</td>\n",
       "      <td>1286_76</td>\n",
       "      <td>900.69</td>\n",
       "      <td>2018-12-18</td>\n",
       "      <td>1286</td>\n",
       "    </tr>\n",
       "  </tbody>\n",
       "</table>\n",
       "</div>"
      ],
      "text/plain": [
       "       Unnamed: 0        id  mb_used session_date  user_id\n",
       "31737       31737  1110_331   351.71   2018-09-04     1110\n",
       "31333       31333  1109_399   257.69   2018-06-09     1109\n",
       "61121       61121  1207_191   128.18   2018-11-05     1207\n",
       "71184       71184   1241_88   736.71   2018-11-23     1241\n",
       "84394       84394   1286_76   900.69   2018-12-18     1286"
      ]
     },
     "metadata": {},
     "output_type": "display_data"
    },
    {
     "name": "stdout",
     "output_type": "stream",
     "text": [
      "<class 'pandas.core.frame.DataFrame'>\n",
      "RangeIndex: 149396 entries, 0 to 149395\n",
      "Data columns (total 5 columns):\n",
      "Unnamed: 0      149396 non-null int64\n",
      "id              149396 non-null object\n",
      "mb_used         149396 non-null float64\n",
      "session_date    149396 non-null object\n",
      "user_id         149396 non-null int64\n",
      "dtypes: float64(1), int64(2), object(2)\n",
      "memory usage: 5.7+ MB\n"
     ]
    },
    {
     "data": {
      "text/plain": [
       "None"
      ]
     },
     "metadata": {},
     "output_type": "display_data"
    },
    {
     "data": {
      "text/html": [
       "<style  type=\"text/css\" >\n",
       "    #T_a8144ea4_82d6_11eb_b602_02420a396756row0_col0 {\n",
       "            background-color:  #3b4cc0;\n",
       "            color:  #f1f1f1;\n",
       "        }    #T_a8144ea4_82d6_11eb_b602_02420a396756row1_col0 {\n",
       "            background-color:  #3b4cc0;\n",
       "            color:  #f1f1f1;\n",
       "        }    #T_a8144ea4_82d6_11eb_b602_02420a396756row2_col0 {\n",
       "            background-color:  #3b4cc0;\n",
       "            color:  #f1f1f1;\n",
       "        }    #T_a8144ea4_82d6_11eb_b602_02420a396756row3_col0 {\n",
       "            background-color:  #3b4cc0;\n",
       "            color:  #f1f1f1;\n",
       "        }    #T_a8144ea4_82d6_11eb_b602_02420a396756row4_col0 {\n",
       "            background-color:  #3b4cc0;\n",
       "            color:  #f1f1f1;\n",
       "        }</style><table id=\"T_a8144ea4_82d6_11eb_b602_02420a396756\" ><thead>    <tr>        <th class=\"blank level0\" ></th>        <th class=\"col_heading level0 col0\" >0</th>    </tr></thead><tbody>\n",
       "                <tr>\n",
       "                        <th id=\"T_a8144ea4_82d6_11eb_b602_02420a396756level0_row0\" class=\"row_heading level0 row0\" >Unnamed: 0</th>\n",
       "                        <td id=\"T_a8144ea4_82d6_11eb_b602_02420a396756row0_col0\" class=\"data row0 col0\" >0</td>\n",
       "            </tr>\n",
       "            <tr>\n",
       "                        <th id=\"T_a8144ea4_82d6_11eb_b602_02420a396756level0_row1\" class=\"row_heading level0 row1\" >id</th>\n",
       "                        <td id=\"T_a8144ea4_82d6_11eb_b602_02420a396756row1_col0\" class=\"data row1 col0\" >0</td>\n",
       "            </tr>\n",
       "            <tr>\n",
       "                        <th id=\"T_a8144ea4_82d6_11eb_b602_02420a396756level0_row2\" class=\"row_heading level0 row2\" >mb_used</th>\n",
       "                        <td id=\"T_a8144ea4_82d6_11eb_b602_02420a396756row2_col0\" class=\"data row2 col0\" >0</td>\n",
       "            </tr>\n",
       "            <tr>\n",
       "                        <th id=\"T_a8144ea4_82d6_11eb_b602_02420a396756level0_row3\" class=\"row_heading level0 row3\" >session_date</th>\n",
       "                        <td id=\"T_a8144ea4_82d6_11eb_b602_02420a396756row3_col0\" class=\"data row3 col0\" >0</td>\n",
       "            </tr>\n",
       "            <tr>\n",
       "                        <th id=\"T_a8144ea4_82d6_11eb_b602_02420a396756level0_row4\" class=\"row_heading level0 row4\" >user_id</th>\n",
       "                        <td id=\"T_a8144ea4_82d6_11eb_b602_02420a396756row4_col0\" class=\"data row4 col0\" >0</td>\n",
       "            </tr>\n",
       "    </tbody></table>"
      ],
      "text/plain": [
       "<pandas.io.formats.style.Styler at 0x7f8c37be4450>"
      ]
     },
     "metadata": {},
     "output_type": "display_data"
    }
   ],
   "source": [
    "general_info(internet)"
   ]
  },
  {
   "cell_type": "markdown",
   "metadata": {},
   "source": [
    "Пропущенных значений нет. Изменим типы данных, аналогично как и в таблицах выше."
   ]
  },
  {
   "cell_type": "code",
   "execution_count": 26,
   "metadata": {},
   "outputs": [],
   "source": [
    "astype_columns(internet)\n",
    "internet['session_date'] = pd.to_datetime(internet['session_date'], format='%Y-%m-%d')"
   ]
  },
  {
   "cell_type": "code",
   "execution_count": 27,
   "metadata": {},
   "outputs": [
    {
     "name": "stdout",
     "output_type": "stream",
     "text": [
      "<class 'pandas.core.frame.DataFrame'>\n",
      "RangeIndex: 149396 entries, 0 to 149395\n",
      "Data columns (total 5 columns):\n",
      "Unnamed: 0      149396 non-null int32\n",
      "id              149396 non-null object\n",
      "mb_used         149396 non-null float32\n",
      "session_date    149396 non-null datetime64[ns]\n",
      "user_id         149396 non-null int16\n",
      "dtypes: datetime64[ns](1), float32(1), int16(1), int32(1), object(1)\n",
      "memory usage: 3.7+ MB\n"
     ]
    }
   ],
   "source": [
    "# проверка \n",
    "\n",
    "internet.info()"
   ]
  },
  {
   "cell_type": "markdown",
   "metadata": {},
   "source": [
    "Уменьшился объем потребляемой памяти, тип даты сессии сменили с object на datetime. Посмотрим на максимальную и минимальную дату сессии."
   ]
  },
  {
   "cell_type": "code",
   "execution_count": 28,
   "metadata": {},
   "outputs": [
    {
     "name": "stdout",
     "output_type": "stream",
     "text": [
      "Минимальная дата сессии: 2018-01-01 00:00:00\n",
      "Максимальная дата сессии: 2018-12-31 00:00:00\n"
     ]
    }
   ],
   "source": [
    "print('Минимальная дата сессии:', internet['session_date'].min())\n",
    "print('Максимальная дата сессии:', internet['session_date'].max())"
   ]
  },
  {
   "cell_type": "code",
   "execution_count": 29,
   "metadata": {},
   "outputs": [
    {
     "data": {
      "text/plain": [
       "0"
      ]
     },
     "execution_count": 29,
     "metadata": {},
     "output_type": "execute_result"
    }
   ],
   "source": [
    "# поиск дубликатов\n",
    "\n",
    "internet.duplicated().sum()"
   ]
  },
  {
   "cell_type": "code",
   "execution_count": 30,
   "metadata": {},
   "outputs": [
    {
     "data": {
      "text/plain": [
       "count    149396.000000\n",
       "mean        370.192444\n",
       "std         278.300964\n",
       "min           0.000000\n",
       "25%         138.187496\n",
       "50%         348.014999\n",
       "75%         559.552490\n",
       "max        1724.829956\n",
       "Name: mb_used, dtype: float64"
      ]
     },
     "execution_count": 30,
     "metadata": {},
     "output_type": "execute_result"
    }
   ],
   "source": [
    "# посмотрим на статистики по столбцу \"объём потраченного за сессию интернет-трафика\"\n",
    "\n",
    "internet['mb_used'].describe()"
   ]
  },
  {
   "cell_type": "markdown",
   "metadata": {},
   "source": [
    "Есть интрнет-сессии с нулевым объемом трафика. Посмотрим на них поближе."
   ]
  },
  {
   "cell_type": "code",
   "execution_count": 31,
   "metadata": {},
   "outputs": [
    {
     "data": {
      "text/html": [
       "<div>\n",
       "<style scoped>\n",
       "    .dataframe tbody tr th:only-of-type {\n",
       "        vertical-align: middle;\n",
       "    }\n",
       "\n",
       "    .dataframe tbody tr th {\n",
       "        vertical-align: top;\n",
       "    }\n",
       "\n",
       "    .dataframe thead th {\n",
       "        text-align: right;\n",
       "    }\n",
       "</style>\n",
       "<table border=\"1\" class=\"dataframe\">\n",
       "  <thead>\n",
       "    <tr style=\"text-align: right;\">\n",
       "      <th></th>\n",
       "      <th>Unnamed: 0</th>\n",
       "      <th>id</th>\n",
       "      <th>mb_used</th>\n",
       "      <th>session_date</th>\n",
       "      <th>user_id</th>\n",
       "    </tr>\n",
       "  </thead>\n",
       "  <tbody>\n",
       "    <tr>\n",
       "      <td>11</td>\n",
       "      <td>11</td>\n",
       "      <td>1000_11</td>\n",
       "      <td>0.0</td>\n",
       "      <td>2018-08-28</td>\n",
       "      <td>1000</td>\n",
       "    </tr>\n",
       "    <tr>\n",
       "      <td>38</td>\n",
       "      <td>38</td>\n",
       "      <td>1000_38</td>\n",
       "      <td>0.0</td>\n",
       "      <td>2018-11-27</td>\n",
       "      <td>1000</td>\n",
       "    </tr>\n",
       "    <tr>\n",
       "      <td>46</td>\n",
       "      <td>46</td>\n",
       "      <td>1000_46</td>\n",
       "      <td>0.0</td>\n",
       "      <td>2018-06-30</td>\n",
       "      <td>1000</td>\n",
       "    </tr>\n",
       "    <tr>\n",
       "      <td>67</td>\n",
       "      <td>67</td>\n",
       "      <td>1000_67</td>\n",
       "      <td>0.0</td>\n",
       "      <td>2018-06-16</td>\n",
       "      <td>1000</td>\n",
       "    </tr>\n",
       "    <tr>\n",
       "      <td>72</td>\n",
       "      <td>72</td>\n",
       "      <td>1000_72</td>\n",
       "      <td>0.0</td>\n",
       "      <td>2018-06-15</td>\n",
       "      <td>1000</td>\n",
       "    </tr>\n",
       "    <tr>\n",
       "      <td>...</td>\n",
       "      <td>...</td>\n",
       "      <td>...</td>\n",
       "      <td>...</td>\n",
       "      <td>...</td>\n",
       "      <td>...</td>\n",
       "    </tr>\n",
       "    <tr>\n",
       "      <td>149380</td>\n",
       "      <td>149380</td>\n",
       "      <td>1499_141</td>\n",
       "      <td>0.0</td>\n",
       "      <td>2018-12-11</td>\n",
       "      <td>1499</td>\n",
       "    </tr>\n",
       "    <tr>\n",
       "      <td>149381</td>\n",
       "      <td>149381</td>\n",
       "      <td>1499_142</td>\n",
       "      <td>0.0</td>\n",
       "      <td>2018-11-01</td>\n",
       "      <td>1499</td>\n",
       "    </tr>\n",
       "    <tr>\n",
       "      <td>149383</td>\n",
       "      <td>149383</td>\n",
       "      <td>1499_144</td>\n",
       "      <td>0.0</td>\n",
       "      <td>2018-11-27</td>\n",
       "      <td>1499</td>\n",
       "    </tr>\n",
       "    <tr>\n",
       "      <td>149386</td>\n",
       "      <td>149386</td>\n",
       "      <td>1499_147</td>\n",
       "      <td>0.0</td>\n",
       "      <td>2018-10-21</td>\n",
       "      <td>1499</td>\n",
       "    </tr>\n",
       "    <tr>\n",
       "      <td>149393</td>\n",
       "      <td>149393</td>\n",
       "      <td>1499_154</td>\n",
       "      <td>0.0</td>\n",
       "      <td>2018-10-27</td>\n",
       "      <td>1499</td>\n",
       "    </tr>\n",
       "  </tbody>\n",
       "</table>\n",
       "<p>19598 rows × 5 columns</p>\n",
       "</div>"
      ],
      "text/plain": [
       "        Unnamed: 0        id  mb_used session_date  user_id\n",
       "11              11   1000_11      0.0   2018-08-28     1000\n",
       "38              38   1000_38      0.0   2018-11-27     1000\n",
       "46              46   1000_46      0.0   2018-06-30     1000\n",
       "67              67   1000_67      0.0   2018-06-16     1000\n",
       "72              72   1000_72      0.0   2018-06-15     1000\n",
       "...            ...       ...      ...          ...      ...\n",
       "149380      149380  1499_141      0.0   2018-12-11     1499\n",
       "149381      149381  1499_142      0.0   2018-11-01     1499\n",
       "149383      149383  1499_144      0.0   2018-11-27     1499\n",
       "149386      149386  1499_147      0.0   2018-10-21     1499\n",
       "149393      149393  1499_154      0.0   2018-10-27     1499\n",
       "\n",
       "[19598 rows x 5 columns]"
      ]
     },
     "execution_count": 31,
     "metadata": {},
     "output_type": "execute_result"
    }
   ],
   "source": [
    "internet.loc[internet['mb_used'] == 0]"
   ]
  },
  {
   "cell_type": "markdown",
   "metadata": {},
   "source": [
    "Всего 13% нулевых сессий от общего датасета. Если бы была длительность сессии, то можно было бы проанализировать ее. Возможно объем, потраченного за сессию интернет-трафика нулевой в том случае, если абонент заходил на странички с безлимитным использованием трафика (например, соц.сети, вотсап и пр.) и объем трафика на этих страницах не учитывается. Хотя в описании тарифа таких условий не прописано. Оставим этот столбец без изменений."
   ]
  },
  {
   "cell_type": "markdown",
   "metadata": {},
   "source": [
    "<div class=\"alert alert-block alert-success\">\n",
    "<b>Комментарий ревьюера</b>\n",
    "\n",
    "Молодец, что заметила и такие интернет-сессии.\n",
    "\n",
    "</div>\n"
   ]
  },
  {
   "cell_type": "markdown",
   "metadata": {},
   "source": [
    "<b><font size=3>Вывод</font></b><br/>\n",
    "\n",
    "Поменяли типы данных с столбцах с типами int и float на типы, которые потребляют меньше памяти. В столбце session_date сменили тип с object на datetime.\n",
    "\n",
    "Дубликатов и пропущенных значений не обнаружено.\n",
    "\n",
    "Все сессии были сделаны в 2018г.\n",
    "\n",
    "13% сессий в датасете имеют нулевой объемпотраченного трафика. Возможно объем, потраченного за сессию интернет-трафика нулевой в том случае, если абонент заходил на странички с безлимитным использованием трафика (например, соц.сети, вотсап и пр.) и объем трафика на этих страницах не учитывается."
   ]
  },
  {
   "cell_type": "markdown",
   "metadata": {},
   "source": [
    "<b><font size=4>1.5. Общая информация о тарифах</font></b><a name=\"1.5.\"></a><br/>\n",
    "[<font size=\"2\">(к содержанию)</font>](#1common.)"
   ]
  },
  {
   "cell_type": "code",
   "execution_count": 32,
   "metadata": {},
   "outputs": [
    {
     "data": {
      "text/html": [
       "<div>\n",
       "<style scoped>\n",
       "    .dataframe tbody tr th:only-of-type {\n",
       "        vertical-align: middle;\n",
       "    }\n",
       "\n",
       "    .dataframe tbody tr th {\n",
       "        vertical-align: top;\n",
       "    }\n",
       "\n",
       "    .dataframe thead th {\n",
       "        text-align: right;\n",
       "    }\n",
       "</style>\n",
       "<table border=\"1\" class=\"dataframe\">\n",
       "  <thead>\n",
       "    <tr style=\"text-align: right;\">\n",
       "      <th></th>\n",
       "      <th>messages_included</th>\n",
       "      <th>mb_per_month_included</th>\n",
       "      <th>minutes_included</th>\n",
       "      <th>rub_monthly_fee</th>\n",
       "      <th>rub_per_gb</th>\n",
       "      <th>rub_per_message</th>\n",
       "      <th>rub_per_minute</th>\n",
       "      <th>tariff_name</th>\n",
       "    </tr>\n",
       "  </thead>\n",
       "  <tbody>\n",
       "    <tr>\n",
       "      <td>0</td>\n",
       "      <td>50</td>\n",
       "      <td>15360</td>\n",
       "      <td>500</td>\n",
       "      <td>550</td>\n",
       "      <td>200</td>\n",
       "      <td>3</td>\n",
       "      <td>3</td>\n",
       "      <td>smart</td>\n",
       "    </tr>\n",
       "    <tr>\n",
       "      <td>1</td>\n",
       "      <td>1000</td>\n",
       "      <td>30720</td>\n",
       "      <td>3000</td>\n",
       "      <td>1950</td>\n",
       "      <td>150</td>\n",
       "      <td>1</td>\n",
       "      <td>1</td>\n",
       "      <td>ultra</td>\n",
       "    </tr>\n",
       "  </tbody>\n",
       "</table>\n",
       "</div>"
      ],
      "text/plain": [
       "   messages_included  mb_per_month_included  minutes_included  \\\n",
       "0                 50                  15360               500   \n",
       "1               1000                  30720              3000   \n",
       "\n",
       "   rub_monthly_fee  rub_per_gb  rub_per_message  rub_per_minute tariff_name  \n",
       "0              550         200                3               3       smart  \n",
       "1             1950         150                1               1       ultra  "
      ]
     },
     "execution_count": 32,
     "metadata": {},
     "output_type": "execute_result"
    }
   ],
   "source": [
    "tariffs"
   ]
  },
  {
   "cell_type": "markdown",
   "metadata": {},
   "source": [
    "В таблице tariffs хранится общая информация о тарифах, которая была описана в п.0."
   ]
  },
  {
   "cell_type": "markdown",
   "metadata": {},
   "source": [
    "<div class=\"alert alert-block alert-success\">\n",
    "<b>Комментарий ревьюера</b>\n",
    "\n",
    "Отличный первый взгляд на сырые данные. Здорово, что не забыла проверить на дубликаты.\n",
    "\n",
    "</div>\n"
   ]
  },
  {
   "cell_type": "markdown",
   "metadata": {},
   "source": [
    "<b><font size=5>2. Добавление новых данных</font></b><a name=\"2.\"></a><br/>\n",
    "[<font size=\"2\">(к содержанию)</font>](#1common.)"
   ]
  },
  {
   "cell_type": "markdown",
   "metadata": {},
   "source": [
    "<b><font size=4>2.1. Кол-во звонков и общая продолжительность звонка в разбивке по месяцам</font></b><a name=\"2.1.\"></a><br/>\n",
    "[<font size=\"2\">(к содержанию)</font>](#1common.)"
   ]
  },
  {
   "cell_type": "code",
   "execution_count": 33,
   "metadata": {},
   "outputs": [],
   "source": [
    "# добавим в таблицу о звонках новый столбец - номер месяца, в который был сделан звонок\n",
    "\n",
    "calls['month'] = calls['call_date'].dt.month"
   ]
  },
  {
   "cell_type": "code",
   "execution_count": 34,
   "metadata": {},
   "outputs": [],
   "source": [
    "# округлим вверх длительность звонка, т.к. по условию оператора он округляет каждый отдельно взятый звонок вверх\n",
    "\n",
    "calls['duration'] = np.ceil(calls['duration'])"
   ]
  },
  {
   "cell_type": "markdown",
   "metadata": {},
   "source": [
    "<div class=\"alert alert-block alert-danger\">\n",
    "<b>Комментарий ревьюера</b>\n",
    "\n",
    "<s>Обрати внимание, что согласно условиям оператора он округляет каждый отдельно взятый звонок и интернет-сессию вверх вверх. Добавь этот шаг перед группировками, пожалуйста.\n",
    "\n",
    "</div>\n"
   ]
  },
  {
   "cell_type": "markdown",
   "metadata": {},
   "source": [
    "\n",
    "<div class=\"alert alert-block alert-info\">    \n",
    "<b>Комментарий от студента:</b> Добавила округление вверх длительности звонка. Длительность интернет-сессий округляю в п.2.3\n",
    "    \n",
    "</div>"
   ]
  },
  {
   "cell_type": "markdown",
   "metadata": {},
   "source": [
    "<div class=\"alert alert-block alert-success\">\n",
    "<b>Комментарий ревьюера (v2)</b>\n",
    "\n",
    "Отлично.\n",
    "\n",
    "</div>\n"
   ]
  },
  {
   "cell_type": "code",
   "execution_count": 35,
   "metadata": {},
   "outputs": [],
   "source": [
    "# посчитаем кол-во сделанных звонков и суммарную продолжительность звонков для каждого пользователя в разбивке по месяцам\n",
    "calls_pivot = calls.pivot_table(index=['user_id', 'month'],\n",
    "                                values='duration',\n",
    "                                aggfunc=('count', 'sum')).fillna(0)\n",
    "\n",
    "# переименуем столбцы\n",
    "calls_pivot.columns = ['calls_count', 'calls_duration']\n"
   ]
  },
  {
   "cell_type": "markdown",
   "metadata": {},
   "source": [
    "<div class=\"alert alert-block alert-warning\">\n",
    "<b>Комментарий ревьюера</b>\n",
    "\n",
    "Только не \"среднюю продолжительность\", а суммарную за каждый месяц :) ✔\n",
    "\n",
    "</div>\n"
   ]
  },
  {
   "cell_type": "code",
   "execution_count": 36,
   "metadata": {},
   "outputs": [
    {
     "data": {
      "text/html": [
       "<div>\n",
       "<style scoped>\n",
       "    .dataframe tbody tr th:only-of-type {\n",
       "        vertical-align: middle;\n",
       "    }\n",
       "\n",
       "    .dataframe tbody tr th {\n",
       "        vertical-align: top;\n",
       "    }\n",
       "\n",
       "    .dataframe thead th {\n",
       "        text-align: right;\n",
       "    }\n",
       "</style>\n",
       "<table border=\"1\" class=\"dataframe\">\n",
       "  <thead>\n",
       "    <tr style=\"text-align: right;\">\n",
       "      <th></th>\n",
       "      <th></th>\n",
       "      <th>calls_count</th>\n",
       "      <th>calls_duration</th>\n",
       "    </tr>\n",
       "    <tr>\n",
       "      <th>user_id</th>\n",
       "      <th>month</th>\n",
       "      <th></th>\n",
       "      <th></th>\n",
       "    </tr>\n",
       "  </thead>\n",
       "  <tbody>\n",
       "    <tr>\n",
       "      <td rowspan=\"5\" valign=\"top\">1000</td>\n",
       "      <td>5</td>\n",
       "      <td>22</td>\n",
       "      <td>159.0</td>\n",
       "    </tr>\n",
       "    <tr>\n",
       "      <td>6</td>\n",
       "      <td>43</td>\n",
       "      <td>172.0</td>\n",
       "    </tr>\n",
       "    <tr>\n",
       "      <td>7</td>\n",
       "      <td>47</td>\n",
       "      <td>340.0</td>\n",
       "    </tr>\n",
       "    <tr>\n",
       "      <td>8</td>\n",
       "      <td>52</td>\n",
       "      <td>408.0</td>\n",
       "    </tr>\n",
       "    <tr>\n",
       "      <td>9</td>\n",
       "      <td>58</td>\n",
       "      <td>466.0</td>\n",
       "    </tr>\n",
       "  </tbody>\n",
       "</table>\n",
       "</div>"
      ],
      "text/plain": [
       "               calls_count  calls_duration\n",
       "user_id month                             \n",
       "1000    5               22           159.0\n",
       "        6               43           172.0\n",
       "        7               47           340.0\n",
       "        8               52           408.0\n",
       "        9               58           466.0"
      ]
     },
     "execution_count": 36,
     "metadata": {},
     "output_type": "execute_result"
    }
   ],
   "source": [
    "# посмотрим на получившуюся таблицу\n",
    "\n",
    "calls_pivot.head()"
   ]
  },
  {
   "cell_type": "markdown",
   "metadata": {},
   "source": [
    "Создали таблицу calls_pivot с информацией по каждому пользователю о кол-ве сделанных звонков и общей продолжительности звонка в разбивке по месяцам. Проделаем тоже самое для таблиц с сообщениями и интернет сессиями."
   ]
  },
  {
   "cell_type": "markdown",
   "metadata": {},
   "source": [
    "<b><font size=4>2.2. Кол-во отправленных сообщений по месяцам</font></b><a name=\"2.2.\"></a><br/>\n",
    "[<font size=\"2\">(к содержанию)</font>](#1common.)"
   ]
  },
  {
   "cell_type": "code",
   "execution_count": 37,
   "metadata": {},
   "outputs": [],
   "source": [
    "# добавим в таблицу о сообщениях новый столбец - номер месяца, в который был сделан звонок\n",
    "\n",
    "messages['month'] = messages['message_date'].dt.month"
   ]
  },
  {
   "cell_type": "code",
   "execution_count": 38,
   "metadata": {},
   "outputs": [],
   "source": [
    "# посчитаем кол-во отправленных сообщений по месяцам для каждого пользователя\n",
    "messages_pivot = messages.pivot_table(index=['user_id', 'month'],\n",
    "                                      values='id',\n",
    "                                      aggfunc='count')\n",
    "\n",
    "# переименуем столбцы\n",
    "messages_pivot.columns = ['messages_count']"
   ]
  },
  {
   "cell_type": "code",
   "execution_count": 39,
   "metadata": {},
   "outputs": [
    {
     "data": {
      "text/html": [
       "<div>\n",
       "<style scoped>\n",
       "    .dataframe tbody tr th:only-of-type {\n",
       "        vertical-align: middle;\n",
       "    }\n",
       "\n",
       "    .dataframe tbody tr th {\n",
       "        vertical-align: top;\n",
       "    }\n",
       "\n",
       "    .dataframe thead th {\n",
       "        text-align: right;\n",
       "    }\n",
       "</style>\n",
       "<table border=\"1\" class=\"dataframe\">\n",
       "  <thead>\n",
       "    <tr style=\"text-align: right;\">\n",
       "      <th></th>\n",
       "      <th></th>\n",
       "      <th>messages_count</th>\n",
       "    </tr>\n",
       "    <tr>\n",
       "      <th>user_id</th>\n",
       "      <th>month</th>\n",
       "      <th></th>\n",
       "    </tr>\n",
       "  </thead>\n",
       "  <tbody>\n",
       "    <tr>\n",
       "      <td rowspan=\"5\" valign=\"top\">1000</td>\n",
       "      <td>5</td>\n",
       "      <td>22</td>\n",
       "    </tr>\n",
       "    <tr>\n",
       "      <td>6</td>\n",
       "      <td>60</td>\n",
       "    </tr>\n",
       "    <tr>\n",
       "      <td>7</td>\n",
       "      <td>75</td>\n",
       "    </tr>\n",
       "    <tr>\n",
       "      <td>8</td>\n",
       "      <td>81</td>\n",
       "    </tr>\n",
       "    <tr>\n",
       "      <td>9</td>\n",
       "      <td>57</td>\n",
       "    </tr>\n",
       "  </tbody>\n",
       "</table>\n",
       "</div>"
      ],
      "text/plain": [
       "               messages_count\n",
       "user_id month                \n",
       "1000    5                  22\n",
       "        6                  60\n",
       "        7                  75\n",
       "        8                  81\n",
       "        9                  57"
      ]
     },
     "execution_count": 39,
     "metadata": {},
     "output_type": "execute_result"
    }
   ],
   "source": [
    "# посмотрим на получившуюся таблицу\n",
    "\n",
    "messages_pivot.head()"
   ]
  },
  {
   "cell_type": "markdown",
   "metadata": {},
   "source": [
    "<b><font size=3>Вывод</font></b><br/>\n",
    "\n",
    "Создали таблицу messages_pivot_full с информацией по каждому пользователю о кол-ве отправленных сообщений в разбивке по месяцам. "
   ]
  },
  {
   "cell_type": "markdown",
   "metadata": {},
   "source": [
    "<b><font size=4>2.3. Объем израсходованного интернет-трафика по месяцам</font></b><a name=\"2.3.\"></a><br/>\n",
    "[<font size=\"2\">(к содержанию)</font>](#1common.)"
   ]
  },
  {
   "cell_type": "code",
   "execution_count": 40,
   "metadata": {},
   "outputs": [],
   "source": [
    "# добавим в таблицу о сообщениях новый столбец - номер месяца, в который был сделан звонок\n",
    "\n",
    "internet['month'] = internet['session_date'].dt.month"
   ]
  },
  {
   "cell_type": "code",
   "execution_count": 41,
   "metadata": {},
   "outputs": [],
   "source": [
    "# округлим вверх объем интернет-трафика, \n",
    "# т.к. по условию оператора он округляет каждую отдельно взятую интернет-сессию вверх\n",
    "\n",
    "internet['mb_used'] = np.ceil(internet['mb_used'])"
   ]
  },
  {
   "cell_type": "markdown",
   "metadata": {},
   "source": [
    "<div class=\"alert alert-block alert-danger\">\n",
    "<b>Комментарий ревьюера</b>\n",
    "\n",
    "<s>Напоминаю про округление интернет сессий 😉\n",
    "\n",
    "</div>\n"
   ]
  },
  {
   "cell_type": "markdown",
   "metadata": {},
   "source": [
    "<div class=\"alert alert-block alert-info\">    \n",
    "<b>Комментарий от студента:</b> Добавила округление вверх интернет-сессий.\n",
    "    \n",
    "</div>"
   ]
  },
  {
   "cell_type": "code",
   "execution_count": 42,
   "metadata": {},
   "outputs": [],
   "source": [
    "# посчитаем объем израсходонного интернет-трафика по месяцам для каждого пользователя\n",
    "internet_pivot = internet.pivot_table(index=['user_id', 'month'],\n",
    "                                      values='mb_used',\n",
    "                                      aggfunc='sum')\n",
    "\n",
    "# переименуем столбцы\n",
    "internet_pivot.columns = ['mb_used_sum']"
   ]
  },
  {
   "cell_type": "code",
   "execution_count": 43,
   "metadata": {},
   "outputs": [
    {
     "data": {
      "text/html": [
       "<div>\n",
       "<style scoped>\n",
       "    .dataframe tbody tr th:only-of-type {\n",
       "        vertical-align: middle;\n",
       "    }\n",
       "\n",
       "    .dataframe tbody tr th {\n",
       "        vertical-align: top;\n",
       "    }\n",
       "\n",
       "    .dataframe thead th {\n",
       "        text-align: right;\n",
       "    }\n",
       "</style>\n",
       "<table border=\"1\" class=\"dataframe\">\n",
       "  <thead>\n",
       "    <tr style=\"text-align: right;\">\n",
       "      <th></th>\n",
       "      <th></th>\n",
       "      <th>mb_used_sum</th>\n",
       "    </tr>\n",
       "    <tr>\n",
       "      <th>user_id</th>\n",
       "      <th>month</th>\n",
       "      <th></th>\n",
       "    </tr>\n",
       "  </thead>\n",
       "  <tbody>\n",
       "    <tr>\n",
       "      <td rowspan=\"5\" valign=\"top\">1000</td>\n",
       "      <td>5</td>\n",
       "      <td>2256.0</td>\n",
       "    </tr>\n",
       "    <tr>\n",
       "      <td>6</td>\n",
       "      <td>23257.0</td>\n",
       "    </tr>\n",
       "    <tr>\n",
       "      <td>7</td>\n",
       "      <td>14016.0</td>\n",
       "    </tr>\n",
       "    <tr>\n",
       "      <td>8</td>\n",
       "      <td>14070.0</td>\n",
       "    </tr>\n",
       "    <tr>\n",
       "      <td>9</td>\n",
       "      <td>14581.0</td>\n",
       "    </tr>\n",
       "  </tbody>\n",
       "</table>\n",
       "</div>"
      ],
      "text/plain": [
       "               mb_used_sum\n",
       "user_id month             \n",
       "1000    5           2256.0\n",
       "        6          23257.0\n",
       "        7          14016.0\n",
       "        8          14070.0\n",
       "        9          14581.0"
      ]
     },
     "execution_count": 43,
     "metadata": {},
     "output_type": "execute_result"
    }
   ],
   "source": [
    "# посмотрим на получившуюся таблицу\n",
    "\n",
    "internet_pivot.head()"
   ]
  },
  {
   "cell_type": "markdown",
   "metadata": {},
   "source": [
    "<b><font size=3>Вывод</font></b><br/>\n",
    "\n",
    "Создали таблицу internet_pivot с информацией по каждому пользователю об объеме интернет-сессий в разбивке по месяцам. Теперь соединим все таблицы в одну общую и добавим данные о тарифе. Затем посчитаем помесячную выручку."
   ]
  },
  {
   "cell_type": "markdown",
   "metadata": {},
   "source": [
    "<b><font size=4>2.4. Помесячная выручка с каждого пользователя</font></b><a name=\"2.4.\"></a><br/>\n",
    "[<font size=\"2\">(к содержанию)</font>](#1common.)"
   ]
  },
  {
   "cell_type": "code",
   "execution_count": 44,
   "metadata": {},
   "outputs": [],
   "source": [
    "#соединим сводные таблицы по звонкам и сообщениям\n",
    "\n",
    "calls_messages = calls_pivot.join(messages_pivot, how='outer')"
   ]
  },
  {
   "cell_type": "code",
   "execution_count": 45,
   "metadata": {},
   "outputs": [],
   "source": [
    "# теперь присоединим еще и таблицу по интернет-трафику\n",
    "\n",
    "calls_messages_internet = calls_messages.join(internet_pivot, how='outer')"
   ]
  },
  {
   "cell_type": "code",
   "execution_count": 46,
   "metadata": {},
   "outputs": [
    {
     "data": {
      "text/html": [
       "<div>\n",
       "<style scoped>\n",
       "    .dataframe tbody tr th:only-of-type {\n",
       "        vertical-align: middle;\n",
       "    }\n",
       "\n",
       "    .dataframe tbody tr th {\n",
       "        vertical-align: top;\n",
       "    }\n",
       "\n",
       "    .dataframe thead th {\n",
       "        text-align: right;\n",
       "    }\n",
       "</style>\n",
       "<table border=\"1\" class=\"dataframe\">\n",
       "  <thead>\n",
       "    <tr style=\"text-align: right;\">\n",
       "      <th></th>\n",
       "      <th></th>\n",
       "      <th>calls_count</th>\n",
       "      <th>calls_duration</th>\n",
       "      <th>messages_count</th>\n",
       "      <th>mb_used_sum</th>\n",
       "    </tr>\n",
       "    <tr>\n",
       "      <th>user_id</th>\n",
       "      <th>month</th>\n",
       "      <th></th>\n",
       "      <th></th>\n",
       "      <th></th>\n",
       "      <th></th>\n",
       "    </tr>\n",
       "  </thead>\n",
       "  <tbody>\n",
       "    <tr>\n",
       "      <td rowspan=\"5\" valign=\"top\">1000</td>\n",
       "      <td>5</td>\n",
       "      <td>22.0</td>\n",
       "      <td>159.0</td>\n",
       "      <td>22.0</td>\n",
       "      <td>2256.0</td>\n",
       "    </tr>\n",
       "    <tr>\n",
       "      <td>6</td>\n",
       "      <td>43.0</td>\n",
       "      <td>172.0</td>\n",
       "      <td>60.0</td>\n",
       "      <td>23257.0</td>\n",
       "    </tr>\n",
       "    <tr>\n",
       "      <td>7</td>\n",
       "      <td>47.0</td>\n",
       "      <td>340.0</td>\n",
       "      <td>75.0</td>\n",
       "      <td>14016.0</td>\n",
       "    </tr>\n",
       "    <tr>\n",
       "      <td>8</td>\n",
       "      <td>52.0</td>\n",
       "      <td>408.0</td>\n",
       "      <td>81.0</td>\n",
       "      <td>14070.0</td>\n",
       "    </tr>\n",
       "    <tr>\n",
       "      <td>9</td>\n",
       "      <td>58.0</td>\n",
       "      <td>466.0</td>\n",
       "      <td>57.0</td>\n",
       "      <td>14581.0</td>\n",
       "    </tr>\n",
       "    <tr>\n",
       "      <td>...</td>\n",
       "      <td>...</td>\n",
       "      <td>...</td>\n",
       "      <td>...</td>\n",
       "      <td>...</td>\n",
       "      <td>...</td>\n",
       "    </tr>\n",
       "    <tr>\n",
       "      <td>1498</td>\n",
       "      <td>10</td>\n",
       "      <td>41.0</td>\n",
       "      <td>247.0</td>\n",
       "      <td>42.0</td>\n",
       "      <td>20604.0</td>\n",
       "    </tr>\n",
       "    <tr>\n",
       "      <td rowspan=\"4\" valign=\"top\">1499</td>\n",
       "      <td>9</td>\n",
       "      <td>9.0</td>\n",
       "      <td>70.0</td>\n",
       "      <td>11.0</td>\n",
       "      <td>1848.0</td>\n",
       "    </tr>\n",
       "    <tr>\n",
       "      <td>10</td>\n",
       "      <td>68.0</td>\n",
       "      <td>449.0</td>\n",
       "      <td>48.0</td>\n",
       "      <td>17809.0</td>\n",
       "    </tr>\n",
       "    <tr>\n",
       "      <td>11</td>\n",
       "      <td>74.0</td>\n",
       "      <td>612.0</td>\n",
       "      <td>59.0</td>\n",
       "      <td>17984.0</td>\n",
       "    </tr>\n",
       "    <tr>\n",
       "      <td>12</td>\n",
       "      <td>69.0</td>\n",
       "      <td>492.0</td>\n",
       "      <td>66.0</td>\n",
       "      <td>13077.0</td>\n",
       "    </tr>\n",
       "  </tbody>\n",
       "</table>\n",
       "<p>3214 rows × 4 columns</p>\n",
       "</div>"
      ],
      "text/plain": [
       "               calls_count  calls_duration  messages_count  mb_used_sum\n",
       "user_id month                                                          \n",
       "1000    5             22.0           159.0            22.0       2256.0\n",
       "        6             43.0           172.0            60.0      23257.0\n",
       "        7             47.0           340.0            75.0      14016.0\n",
       "        8             52.0           408.0            81.0      14070.0\n",
       "        9             58.0           466.0            57.0      14581.0\n",
       "...                    ...             ...             ...          ...\n",
       "1498    10            41.0           247.0            42.0      20604.0\n",
       "1499    9              9.0            70.0            11.0       1848.0\n",
       "        10            68.0           449.0            48.0      17809.0\n",
       "        11            74.0           612.0            59.0      17984.0\n",
       "        12            69.0           492.0            66.0      13077.0\n",
       "\n",
       "[3214 rows x 4 columns]"
      ]
     },
     "execution_count": 46,
     "metadata": {},
     "output_type": "execute_result"
    }
   ],
   "source": [
    "# посмотрим на полученную таблицу\n",
    "\n",
    "calls_messages_internet"
   ]
  },
  {
   "cell_type": "markdown",
   "metadata": {},
   "source": [
    "<div class=\"alert alert-block alert-danger\">\n",
    "<b>Комментарий ревьюера</b>\n",
    "\n",
    "<s>По умолчанию у join стоит тип объединения left. Из-за этого теряется небольшое количество строк. Подумай, какой тип объединения здесь подходит больше.\n",
    "\n",
    "</div>\n"
   ]
  },
  {
   "cell_type": "markdown",
   "metadata": {},
   "source": [
    "<div class=\"alert alert-block alert-info\">    \n",
    "<b>Комментарий от студента:</b> Спасибо большое! Я как-то не подумала до объединения, что в таблице calls могут быть абоненты, которые не пишут сообщений или не пользуются интернетом! Исправила, добавив параметр how='outer'.\n",
    "    \n",
    "</div>"
   ]
  },
  {
   "cell_type": "markdown",
   "metadata": {},
   "source": [
    "<div class=\"alert alert-block alert-success\">\n",
    "<b>Комментарий ревьюера (v2)</b>\n",
    "\n",
    "Вот, теперь все абсолютно верно :)\n",
    "\n",
    "</div>\n"
   ]
  },
  {
   "cell_type": "code",
   "execution_count": 47,
   "metadata": {},
   "outputs": [],
   "source": [
    "# присоединим данные о тарифах пользователей\n",
    "pivot_table_temp = calls_messages_internet.join(users.loc[:, ['user_id', 'tariff', 'city']].set_index('user_id'))\n",
    "\n",
    "# присоединим информацию о каждом тарифе\n",
    "df_with_tariffs = (\n",
    "    pivot_table_temp\n",
    "    .reset_index()\n",
    "    .merge(tariffs, left_on='tariff', right_on='tariff_name')\n",
    "    .drop('tariff', axis=1)\n",
    ")"
   ]
  },
  {
   "cell_type": "code",
   "execution_count": 48,
   "metadata": {},
   "outputs": [
    {
     "data": {
      "text/plain": [
       "user_id                    0\n",
       "month                      0\n",
       "calls_count               40\n",
       "calls_duration            40\n",
       "messages_count           497\n",
       "mb_used_sum               11\n",
       "city                       0\n",
       "messages_included          0\n",
       "mb_per_month_included      0\n",
       "minutes_included           0\n",
       "rub_monthly_fee            0\n",
       "rub_per_gb                 0\n",
       "rub_per_message            0\n",
       "rub_per_minute             0\n",
       "tariff_name                0\n",
       "dtype: int64"
      ]
     },
     "execution_count": 48,
     "metadata": {},
     "output_type": "execute_result"
    }
   ],
   "source": [
    "# проверка на пустые значения\n",
    "\n",
    "df_with_tariffs.isna().sum()"
   ]
  },
  {
   "cell_type": "markdown",
   "metadata": {},
   "source": [
    "Есть пользователи, которые не отправляли сообщения, есть которые не пользовались интернетом или не совершали звонков. Заполним тогда эти значения нулями."
   ]
  },
  {
   "cell_type": "code",
   "execution_count": 49,
   "metadata": {},
   "outputs": [],
   "source": [
    "# заполним пропуски нулями\n",
    "\n",
    "df_with_tariffs['calls_count'] = df_with_tariffs['calls_count'].fillna(0)\n",
    "df_with_tariffs['calls_duration'] = df_with_tariffs['calls_duration'].fillna(0)\n",
    "df_with_tariffs['messages_count'] = df_with_tariffs['messages_count'].fillna(0)\n",
    "df_with_tariffs['mb_used_sum'] = df_with_tariffs['mb_used_sum'].fillna(0)"
   ]
  },
  {
   "cell_type": "markdown",
   "metadata": {},
   "source": [
    "<div class=\"alert alert-block alert-success\">\n",
    "<b>Комментарий ревьюера</b>\n",
    "\n",
    "Решение логичное и правильное.\n",
    "\n",
    "</div>\n"
   ]
  },
  {
   "cell_type": "code",
   "execution_count": 50,
   "metadata": {
    "scrolled": true
   },
   "outputs": [
    {
     "data": {
      "text/html": [
       "<div>\n",
       "<style scoped>\n",
       "    .dataframe tbody tr th:only-of-type {\n",
       "        vertical-align: middle;\n",
       "    }\n",
       "\n",
       "    .dataframe tbody tr th {\n",
       "        vertical-align: top;\n",
       "    }\n",
       "\n",
       "    .dataframe thead th {\n",
       "        text-align: right;\n",
       "    }\n",
       "</style>\n",
       "<table border=\"1\" class=\"dataframe\">\n",
       "  <thead>\n",
       "    <tr style=\"text-align: right;\">\n",
       "      <th></th>\n",
       "      <th>user_id</th>\n",
       "      <th>month</th>\n",
       "      <th>calls_count</th>\n",
       "      <th>calls_duration</th>\n",
       "      <th>messages_count</th>\n",
       "      <th>mb_used_sum</th>\n",
       "      <th>city</th>\n",
       "      <th>messages_included</th>\n",
       "      <th>mb_per_month_included</th>\n",
       "      <th>minutes_included</th>\n",
       "      <th>rub_monthly_fee</th>\n",
       "      <th>rub_per_gb</th>\n",
       "      <th>rub_per_message</th>\n",
       "      <th>rub_per_minute</th>\n",
       "      <th>tariff_name</th>\n",
       "    </tr>\n",
       "  </thead>\n",
       "  <tbody>\n",
       "    <tr>\n",
       "      <td>0</td>\n",
       "      <td>1000</td>\n",
       "      <td>5</td>\n",
       "      <td>22.0</td>\n",
       "      <td>159.0</td>\n",
       "      <td>22.0</td>\n",
       "      <td>2256.0</td>\n",
       "      <td>Краснодар</td>\n",
       "      <td>1000</td>\n",
       "      <td>30720</td>\n",
       "      <td>3000</td>\n",
       "      <td>1950</td>\n",
       "      <td>150</td>\n",
       "      <td>1</td>\n",
       "      <td>1</td>\n",
       "      <td>ultra</td>\n",
       "    </tr>\n",
       "    <tr>\n",
       "      <td>1</td>\n",
       "      <td>1000</td>\n",
       "      <td>6</td>\n",
       "      <td>43.0</td>\n",
       "      <td>172.0</td>\n",
       "      <td>60.0</td>\n",
       "      <td>23257.0</td>\n",
       "      <td>Краснодар</td>\n",
       "      <td>1000</td>\n",
       "      <td>30720</td>\n",
       "      <td>3000</td>\n",
       "      <td>1950</td>\n",
       "      <td>150</td>\n",
       "      <td>1</td>\n",
       "      <td>1</td>\n",
       "      <td>ultra</td>\n",
       "    </tr>\n",
       "    <tr>\n",
       "      <td>2</td>\n",
       "      <td>1000</td>\n",
       "      <td>7</td>\n",
       "      <td>47.0</td>\n",
       "      <td>340.0</td>\n",
       "      <td>75.0</td>\n",
       "      <td>14016.0</td>\n",
       "      <td>Краснодар</td>\n",
       "      <td>1000</td>\n",
       "      <td>30720</td>\n",
       "      <td>3000</td>\n",
       "      <td>1950</td>\n",
       "      <td>150</td>\n",
       "      <td>1</td>\n",
       "      <td>1</td>\n",
       "      <td>ultra</td>\n",
       "    </tr>\n",
       "    <tr>\n",
       "      <td>3</td>\n",
       "      <td>1000</td>\n",
       "      <td>8</td>\n",
       "      <td>52.0</td>\n",
       "      <td>408.0</td>\n",
       "      <td>81.0</td>\n",
       "      <td>14070.0</td>\n",
       "      <td>Краснодар</td>\n",
       "      <td>1000</td>\n",
       "      <td>30720</td>\n",
       "      <td>3000</td>\n",
       "      <td>1950</td>\n",
       "      <td>150</td>\n",
       "      <td>1</td>\n",
       "      <td>1</td>\n",
       "      <td>ultra</td>\n",
       "    </tr>\n",
       "    <tr>\n",
       "      <td>4</td>\n",
       "      <td>1000</td>\n",
       "      <td>9</td>\n",
       "      <td>58.0</td>\n",
       "      <td>466.0</td>\n",
       "      <td>57.0</td>\n",
       "      <td>14581.0</td>\n",
       "      <td>Краснодар</td>\n",
       "      <td>1000</td>\n",
       "      <td>30720</td>\n",
       "      <td>3000</td>\n",
       "      <td>1950</td>\n",
       "      <td>150</td>\n",
       "      <td>1</td>\n",
       "      <td>1</td>\n",
       "      <td>ultra</td>\n",
       "    </tr>\n",
       "    <tr>\n",
       "      <td>5</td>\n",
       "      <td>1000</td>\n",
       "      <td>10</td>\n",
       "      <td>57.0</td>\n",
       "      <td>350.0</td>\n",
       "      <td>73.0</td>\n",
       "      <td>14717.0</td>\n",
       "      <td>Краснодар</td>\n",
       "      <td>1000</td>\n",
       "      <td>30720</td>\n",
       "      <td>3000</td>\n",
       "      <td>1950</td>\n",
       "      <td>150</td>\n",
       "      <td>1</td>\n",
       "      <td>1</td>\n",
       "      <td>ultra</td>\n",
       "    </tr>\n",
       "    <tr>\n",
       "      <td>6</td>\n",
       "      <td>1000</td>\n",
       "      <td>11</td>\n",
       "      <td>43.0</td>\n",
       "      <td>338.0</td>\n",
       "      <td>58.0</td>\n",
       "      <td>14768.0</td>\n",
       "      <td>Краснодар</td>\n",
       "      <td>1000</td>\n",
       "      <td>30720</td>\n",
       "      <td>3000</td>\n",
       "      <td>1950</td>\n",
       "      <td>150</td>\n",
       "      <td>1</td>\n",
       "      <td>1</td>\n",
       "      <td>ultra</td>\n",
       "    </tr>\n",
       "    <tr>\n",
       "      <td>7</td>\n",
       "      <td>1000</td>\n",
       "      <td>12</td>\n",
       "      <td>46.0</td>\n",
       "      <td>333.0</td>\n",
       "      <td>70.0</td>\n",
       "      <td>9827.0</td>\n",
       "      <td>Краснодар</td>\n",
       "      <td>1000</td>\n",
       "      <td>30720</td>\n",
       "      <td>3000</td>\n",
       "      <td>1950</td>\n",
       "      <td>150</td>\n",
       "      <td>1</td>\n",
       "      <td>1</td>\n",
       "      <td>ultra</td>\n",
       "    </tr>\n",
       "    <tr>\n",
       "      <td>8</td>\n",
       "      <td>1003</td>\n",
       "      <td>8</td>\n",
       "      <td>55.0</td>\n",
       "      <td>380.0</td>\n",
       "      <td>37.0</td>\n",
       "      <td>8571.0</td>\n",
       "      <td>Москва</td>\n",
       "      <td>1000</td>\n",
       "      <td>30720</td>\n",
       "      <td>3000</td>\n",
       "      <td>1950</td>\n",
       "      <td>150</td>\n",
       "      <td>1</td>\n",
       "      <td>1</td>\n",
       "      <td>ultra</td>\n",
       "    </tr>\n",
       "    <tr>\n",
       "      <td>9</td>\n",
       "      <td>1003</td>\n",
       "      <td>9</td>\n",
       "      <td>134.0</td>\n",
       "      <td>961.0</td>\n",
       "      <td>91.0</td>\n",
       "      <td>12479.0</td>\n",
       "      <td>Москва</td>\n",
       "      <td>1000</td>\n",
       "      <td>30720</td>\n",
       "      <td>3000</td>\n",
       "      <td>1950</td>\n",
       "      <td>150</td>\n",
       "      <td>1</td>\n",
       "      <td>1</td>\n",
       "      <td>ultra</td>\n",
       "    </tr>\n",
       "  </tbody>\n",
       "</table>\n",
       "</div>"
      ],
      "text/plain": [
       "   user_id  month  calls_count  calls_duration  messages_count  mb_used_sum  \\\n",
       "0     1000      5         22.0           159.0            22.0       2256.0   \n",
       "1     1000      6         43.0           172.0            60.0      23257.0   \n",
       "2     1000      7         47.0           340.0            75.0      14016.0   \n",
       "3     1000      8         52.0           408.0            81.0      14070.0   \n",
       "4     1000      9         58.0           466.0            57.0      14581.0   \n",
       "5     1000     10         57.0           350.0            73.0      14717.0   \n",
       "6     1000     11         43.0           338.0            58.0      14768.0   \n",
       "7     1000     12         46.0           333.0            70.0       9827.0   \n",
       "8     1003      8         55.0           380.0            37.0       8571.0   \n",
       "9     1003      9        134.0           961.0            91.0      12479.0   \n",
       "\n",
       "        city  messages_included  mb_per_month_included  minutes_included  \\\n",
       "0  Краснодар               1000                  30720              3000   \n",
       "1  Краснодар               1000                  30720              3000   \n",
       "2  Краснодар               1000                  30720              3000   \n",
       "3  Краснодар               1000                  30720              3000   \n",
       "4  Краснодар               1000                  30720              3000   \n",
       "5  Краснодар               1000                  30720              3000   \n",
       "6  Краснодар               1000                  30720              3000   \n",
       "7  Краснодар               1000                  30720              3000   \n",
       "8     Москва               1000                  30720              3000   \n",
       "9     Москва               1000                  30720              3000   \n",
       "\n",
       "   rub_monthly_fee  rub_per_gb  rub_per_message  rub_per_minute tariff_name  \n",
       "0             1950         150                1               1       ultra  \n",
       "1             1950         150                1               1       ultra  \n",
       "2             1950         150                1               1       ultra  \n",
       "3             1950         150                1               1       ultra  \n",
       "4             1950         150                1               1       ultra  \n",
       "5             1950         150                1               1       ultra  \n",
       "6             1950         150                1               1       ultra  \n",
       "7             1950         150                1               1       ultra  \n",
       "8             1950         150                1               1       ultra  \n",
       "9             1950         150                1               1       ultra  "
      ]
     },
     "execution_count": 50,
     "metadata": {},
     "output_type": "execute_result"
    }
   ],
   "source": [
    "# посмотрим на итоговую таблицу\n",
    "\n",
    "df_with_tariffs.head(10)"
   ]
  },
  {
   "cell_type": "markdown",
   "metadata": {},
   "source": [
    "Теперь посчитаем выручку от каждого пользователя в разбивке по месяцам. Сначала посчитаем отдельно сколько пользователь платит за звонки, отдельно за сообщения и отдельно за интернет."
   ]
  },
  {
   "cell_type": "markdown",
   "metadata": {},
   "source": [
    "<div class=\"alert alert-block alert-info\">    \n",
    "<b>Комментарий от студента:</b> В ячейки ниже, при подсчете выручки, убрала округление вверх, т.к. сделала это ранее.\n",
    "    \n",
    "</div>"
   ]
  },
  {
   "cell_type": "code",
   "execution_count": 51,
   "metadata": {},
   "outputs": [],
   "source": [
    "# сумма платы за звонки в месяц = max(использованные_минуты - минуты_в_пакете, 0) * цена_за_минуту\n",
    "\n",
    "receipts_calls = (\n",
    "    np.maximum(df_with_tariffs['calls_duration'] - df_with_tariffs['minutes_included'], 0) \n",
    "    * df_with_tariffs['rub_per_minute'])\n",
    "\n",
    "\n",
    "# тоже для сообщений\n",
    "\n",
    "receipts_messages = (\n",
    "    np.maximum(df_with_tariffs['messages_count'] - df_with_tariffs['messages_included'], 0) \n",
    "    * df_with_tariffs['rub_per_message'])\n",
    "\n",
    "\n",
    "# тоже для интернет-сессий\n",
    "\n",
    "receipts_internet = (\n",
    "    np.maximum(df_with_tariffs['mb_used_sum'] - df_with_tariffs['mb_per_month_included'], 0) \n",
    "    * df_with_tariffs['rub_per_gb'] / 1024)\n"
   ]
  },
  {
   "cell_type": "code",
   "execution_count": 52,
   "metadata": {},
   "outputs": [],
   "source": [
    "# считаем общую выручку \n",
    "df_with_tariffs['receipts'] = round(df_with_tariffs['rub_monthly_fee'] \n",
    "                                    + receipts_calls \n",
    "                                    + receipts_messages \n",
    "                                    + receipts_internet, 2)"
   ]
  },
  {
   "cell_type": "code",
   "execution_count": 53,
   "metadata": {
    "scrolled": true
   },
   "outputs": [
    {
     "data": {
      "text/html": [
       "<div>\n",
       "<style scoped>\n",
       "    .dataframe tbody tr th:only-of-type {\n",
       "        vertical-align: middle;\n",
       "    }\n",
       "\n",
       "    .dataframe tbody tr th {\n",
       "        vertical-align: top;\n",
       "    }\n",
       "\n",
       "    .dataframe thead th {\n",
       "        text-align: right;\n",
       "    }\n",
       "</style>\n",
       "<table border=\"1\" class=\"dataframe\">\n",
       "  <thead>\n",
       "    <tr style=\"text-align: right;\">\n",
       "      <th></th>\n",
       "      <th>user_id</th>\n",
       "      <th>month</th>\n",
       "      <th>calls_count</th>\n",
       "      <th>calls_duration</th>\n",
       "      <th>messages_count</th>\n",
       "      <th>mb_used_sum</th>\n",
       "      <th>city</th>\n",
       "      <th>messages_included</th>\n",
       "      <th>mb_per_month_included</th>\n",
       "      <th>minutes_included</th>\n",
       "      <th>rub_monthly_fee</th>\n",
       "      <th>rub_per_gb</th>\n",
       "      <th>rub_per_message</th>\n",
       "      <th>rub_per_minute</th>\n",
       "      <th>tariff_name</th>\n",
       "      <th>receipts</th>\n",
       "    </tr>\n",
       "  </thead>\n",
       "  <tbody>\n",
       "    <tr>\n",
       "      <td>0</td>\n",
       "      <td>1000</td>\n",
       "      <td>5</td>\n",
       "      <td>22.0</td>\n",
       "      <td>159.0</td>\n",
       "      <td>22.0</td>\n",
       "      <td>2256.0</td>\n",
       "      <td>Краснодар</td>\n",
       "      <td>1000</td>\n",
       "      <td>30720</td>\n",
       "      <td>3000</td>\n",
       "      <td>1950</td>\n",
       "      <td>150</td>\n",
       "      <td>1</td>\n",
       "      <td>1</td>\n",
       "      <td>ultra</td>\n",
       "      <td>1950.00</td>\n",
       "    </tr>\n",
       "    <tr>\n",
       "      <td>1</td>\n",
       "      <td>1000</td>\n",
       "      <td>6</td>\n",
       "      <td>43.0</td>\n",
       "      <td>172.0</td>\n",
       "      <td>60.0</td>\n",
       "      <td>23257.0</td>\n",
       "      <td>Краснодар</td>\n",
       "      <td>1000</td>\n",
       "      <td>30720</td>\n",
       "      <td>3000</td>\n",
       "      <td>1950</td>\n",
       "      <td>150</td>\n",
       "      <td>1</td>\n",
       "      <td>1</td>\n",
       "      <td>ultra</td>\n",
       "      <td>1950.00</td>\n",
       "    </tr>\n",
       "    <tr>\n",
       "      <td>2</td>\n",
       "      <td>1000</td>\n",
       "      <td>7</td>\n",
       "      <td>47.0</td>\n",
       "      <td>340.0</td>\n",
       "      <td>75.0</td>\n",
       "      <td>14016.0</td>\n",
       "      <td>Краснодар</td>\n",
       "      <td>1000</td>\n",
       "      <td>30720</td>\n",
       "      <td>3000</td>\n",
       "      <td>1950</td>\n",
       "      <td>150</td>\n",
       "      <td>1</td>\n",
       "      <td>1</td>\n",
       "      <td>ultra</td>\n",
       "      <td>1950.00</td>\n",
       "    </tr>\n",
       "    <tr>\n",
       "      <td>3</td>\n",
       "      <td>1000</td>\n",
       "      <td>8</td>\n",
       "      <td>52.0</td>\n",
       "      <td>408.0</td>\n",
       "      <td>81.0</td>\n",
       "      <td>14070.0</td>\n",
       "      <td>Краснодар</td>\n",
       "      <td>1000</td>\n",
       "      <td>30720</td>\n",
       "      <td>3000</td>\n",
       "      <td>1950</td>\n",
       "      <td>150</td>\n",
       "      <td>1</td>\n",
       "      <td>1</td>\n",
       "      <td>ultra</td>\n",
       "      <td>1950.00</td>\n",
       "    </tr>\n",
       "    <tr>\n",
       "      <td>4</td>\n",
       "      <td>1000</td>\n",
       "      <td>9</td>\n",
       "      <td>58.0</td>\n",
       "      <td>466.0</td>\n",
       "      <td>57.0</td>\n",
       "      <td>14581.0</td>\n",
       "      <td>Краснодар</td>\n",
       "      <td>1000</td>\n",
       "      <td>30720</td>\n",
       "      <td>3000</td>\n",
       "      <td>1950</td>\n",
       "      <td>150</td>\n",
       "      <td>1</td>\n",
       "      <td>1</td>\n",
       "      <td>ultra</td>\n",
       "      <td>1950.00</td>\n",
       "    </tr>\n",
       "    <tr>\n",
       "      <td>...</td>\n",
       "      <td>...</td>\n",
       "      <td>...</td>\n",
       "      <td>...</td>\n",
       "      <td>...</td>\n",
       "      <td>...</td>\n",
       "      <td>...</td>\n",
       "      <td>...</td>\n",
       "      <td>...</td>\n",
       "      <td>...</td>\n",
       "      <td>...</td>\n",
       "      <td>...</td>\n",
       "      <td>...</td>\n",
       "      <td>...</td>\n",
       "      <td>...</td>\n",
       "      <td>...</td>\n",
       "      <td>...</td>\n",
       "    </tr>\n",
       "    <tr>\n",
       "      <td>3209</td>\n",
       "      <td>1498</td>\n",
       "      <td>10</td>\n",
       "      <td>41.0</td>\n",
       "      <td>247.0</td>\n",
       "      <td>42.0</td>\n",
       "      <td>20604.0</td>\n",
       "      <td>Владикавказ</td>\n",
       "      <td>50</td>\n",
       "      <td>15360</td>\n",
       "      <td>500</td>\n",
       "      <td>550</td>\n",
       "      <td>200</td>\n",
       "      <td>3</td>\n",
       "      <td>3</td>\n",
       "      <td>smart</td>\n",
       "      <td>1574.22</td>\n",
       "    </tr>\n",
       "    <tr>\n",
       "      <td>3210</td>\n",
       "      <td>1499</td>\n",
       "      <td>9</td>\n",
       "      <td>9.0</td>\n",
       "      <td>70.0</td>\n",
       "      <td>11.0</td>\n",
       "      <td>1848.0</td>\n",
       "      <td>Пермь</td>\n",
       "      <td>50</td>\n",
       "      <td>15360</td>\n",
       "      <td>500</td>\n",
       "      <td>550</td>\n",
       "      <td>200</td>\n",
       "      <td>3</td>\n",
       "      <td>3</td>\n",
       "      <td>smart</td>\n",
       "      <td>550.00</td>\n",
       "    </tr>\n",
       "    <tr>\n",
       "      <td>3211</td>\n",
       "      <td>1499</td>\n",
       "      <td>10</td>\n",
       "      <td>68.0</td>\n",
       "      <td>449.0</td>\n",
       "      <td>48.0</td>\n",
       "      <td>17809.0</td>\n",
       "      <td>Пермь</td>\n",
       "      <td>50</td>\n",
       "      <td>15360</td>\n",
       "      <td>500</td>\n",
       "      <td>550</td>\n",
       "      <td>200</td>\n",
       "      <td>3</td>\n",
       "      <td>3</td>\n",
       "      <td>smart</td>\n",
       "      <td>1028.32</td>\n",
       "    </tr>\n",
       "    <tr>\n",
       "      <td>3212</td>\n",
       "      <td>1499</td>\n",
       "      <td>11</td>\n",
       "      <td>74.0</td>\n",
       "      <td>612.0</td>\n",
       "      <td>59.0</td>\n",
       "      <td>17984.0</td>\n",
       "      <td>Пермь</td>\n",
       "      <td>50</td>\n",
       "      <td>15360</td>\n",
       "      <td>500</td>\n",
       "      <td>550</td>\n",
       "      <td>200</td>\n",
       "      <td>3</td>\n",
       "      <td>3</td>\n",
       "      <td>smart</td>\n",
       "      <td>1425.50</td>\n",
       "    </tr>\n",
       "    <tr>\n",
       "      <td>3213</td>\n",
       "      <td>1499</td>\n",
       "      <td>12</td>\n",
       "      <td>69.0</td>\n",
       "      <td>492.0</td>\n",
       "      <td>66.0</td>\n",
       "      <td>13077.0</td>\n",
       "      <td>Пермь</td>\n",
       "      <td>50</td>\n",
       "      <td>15360</td>\n",
       "      <td>500</td>\n",
       "      <td>550</td>\n",
       "      <td>200</td>\n",
       "      <td>3</td>\n",
       "      <td>3</td>\n",
       "      <td>smart</td>\n",
       "      <td>598.00</td>\n",
       "    </tr>\n",
       "  </tbody>\n",
       "</table>\n",
       "<p>3214 rows × 16 columns</p>\n",
       "</div>"
      ],
      "text/plain": [
       "      user_id  month  calls_count  calls_duration  messages_count  \\\n",
       "0        1000      5         22.0           159.0            22.0   \n",
       "1        1000      6         43.0           172.0            60.0   \n",
       "2        1000      7         47.0           340.0            75.0   \n",
       "3        1000      8         52.0           408.0            81.0   \n",
       "4        1000      9         58.0           466.0            57.0   \n",
       "...       ...    ...          ...             ...             ...   \n",
       "3209     1498     10         41.0           247.0            42.0   \n",
       "3210     1499      9          9.0            70.0            11.0   \n",
       "3211     1499     10         68.0           449.0            48.0   \n",
       "3212     1499     11         74.0           612.0            59.0   \n",
       "3213     1499     12         69.0           492.0            66.0   \n",
       "\n",
       "      mb_used_sum         city  messages_included  mb_per_month_included  \\\n",
       "0          2256.0    Краснодар               1000                  30720   \n",
       "1         23257.0    Краснодар               1000                  30720   \n",
       "2         14016.0    Краснодар               1000                  30720   \n",
       "3         14070.0    Краснодар               1000                  30720   \n",
       "4         14581.0    Краснодар               1000                  30720   \n",
       "...           ...          ...                ...                    ...   \n",
       "3209      20604.0  Владикавказ                 50                  15360   \n",
       "3210       1848.0        Пермь                 50                  15360   \n",
       "3211      17809.0        Пермь                 50                  15360   \n",
       "3212      17984.0        Пермь                 50                  15360   \n",
       "3213      13077.0        Пермь                 50                  15360   \n",
       "\n",
       "      minutes_included  rub_monthly_fee  rub_per_gb  rub_per_message  \\\n",
       "0                 3000             1950         150                1   \n",
       "1                 3000             1950         150                1   \n",
       "2                 3000             1950         150                1   \n",
       "3                 3000             1950         150                1   \n",
       "4                 3000             1950         150                1   \n",
       "...                ...              ...         ...              ...   \n",
       "3209               500              550         200                3   \n",
       "3210               500              550         200                3   \n",
       "3211               500              550         200                3   \n",
       "3212               500              550         200                3   \n",
       "3213               500              550         200                3   \n",
       "\n",
       "      rub_per_minute tariff_name  receipts  \n",
       "0                  1       ultra   1950.00  \n",
       "1                  1       ultra   1950.00  \n",
       "2                  1       ultra   1950.00  \n",
       "3                  1       ultra   1950.00  \n",
       "4                  1       ultra   1950.00  \n",
       "...              ...         ...       ...  \n",
       "3209               3       smart   1574.22  \n",
       "3210               3       smart    550.00  \n",
       "3211               3       smart   1028.32  \n",
       "3212               3       smart   1425.50  \n",
       "3213               3       smart    598.00  \n",
       "\n",
       "[3214 rows x 16 columns]"
      ]
     },
     "execution_count": 53,
     "metadata": {},
     "output_type": "execute_result"
    }
   ],
   "source": [
    "# посмотрим на итоговую таблицу\n",
    "\n",
    "df_with_tariffs"
   ]
  },
  {
   "cell_type": "markdown",
   "metadata": {},
   "source": [
    "<b><font size=3>Вывод</font></b><br/>\n",
    "\n",
    "Добавили в общую таблицу помесячную выручку с каждого пользователя. Вычли бесплатный лимит из суммарного количества звонков, сообщений и интернет-трафика; остаток умножили на значение из тарифного плана; прибавили абонентскую плату, соответствующую тарифному плану."
   ]
  },
  {
   "cell_type": "markdown",
   "metadata": {},
   "source": [
    "<div class=\"alert alert-block alert-success\">\n",
    "<b>Комментарий ревьюера</b>\n",
    "\n",
    "Выручка расчитана верно!\n",
    "\n",
    "</div>\n"
   ]
  },
  {
   "cell_type": "markdown",
   "metadata": {},
   "source": [
    "<div class=\"alert alert-block alert-warning\">\n",
    "<b>Комментарий ревьюера</b>\n",
    "\n",
    "Только для выручки больше подходит целочисленный формат данных (или с двумя знаками после запятой). ✔\n",
    "\n",
    "</div>\n"
   ]
  },
  {
   "cell_type": "markdown",
   "metadata": {},
   "source": [
    "<b><font size=5>3. Анализ данных</font></b><a name=\"3.\"></a><br/>\n",
    "[<font size=\"2\">(к содержанию)</font>](#1common.)"
   ]
  },
  {
   "cell_type": "markdown",
   "metadata": {},
   "source": [
    "Посмотрим сколько минут разговора, сколько сообщений и какой объём интернет-трафика требуется пользователям каждого тарифа в месяц. Посчитаем среднее количество, дисперсию и стандартное отклонение. Построим гистограммы."
   ]
  },
  {
   "cell_type": "code",
   "execution_count": 55,
   "metadata": {},
   "outputs": [
    {
     "data": {
      "text/html": [
       "<div>\n",
       "<style scoped>\n",
       "    .dataframe tbody tr th:only-of-type {\n",
       "        vertical-align: middle;\n",
       "    }\n",
       "\n",
       "    .dataframe tbody tr th {\n",
       "        vertical-align: top;\n",
       "    }\n",
       "\n",
       "    .dataframe thead tr th {\n",
       "        text-align: left;\n",
       "    }\n",
       "\n",
       "    .dataframe thead tr:last-of-type th {\n",
       "        text-align: right;\n",
       "    }\n",
       "</style>\n",
       "<table border=\"1\" class=\"dataframe\">\n",
       "  <thead>\n",
       "    <tr>\n",
       "      <th></th>\n",
       "      <th colspan=\"3\" halign=\"left\">calls_count</th>\n",
       "      <th colspan=\"3\" halign=\"left\">calls_duration</th>\n",
       "      <th colspan=\"3\" halign=\"left\">messages_count</th>\n",
       "      <th colspan=\"3\" halign=\"left\">mb_used_sum</th>\n",
       "    </tr>\n",
       "    <tr>\n",
       "      <th></th>\n",
       "      <th>mean</th>\n",
       "      <th>var</th>\n",
       "      <th>std</th>\n",
       "      <th>mean</th>\n",
       "      <th>var</th>\n",
       "      <th>std</th>\n",
       "      <th>mean</th>\n",
       "      <th>var</th>\n",
       "      <th>std</th>\n",
       "      <th>mean</th>\n",
       "      <th>var</th>\n",
       "      <th>std</th>\n",
       "    </tr>\n",
       "    <tr>\n",
       "      <th>tariff_name</th>\n",
       "      <th></th>\n",
       "      <th></th>\n",
       "      <th></th>\n",
       "      <th></th>\n",
       "      <th></th>\n",
       "      <th></th>\n",
       "      <th></th>\n",
       "      <th></th>\n",
       "      <th></th>\n",
       "      <th></th>\n",
       "      <th></th>\n",
       "      <th></th>\n",
       "    </tr>\n",
       "  </thead>\n",
       "  <tbody>\n",
       "    <tr>\n",
       "      <td>smart</td>\n",
       "      <td>58.0</td>\n",
       "      <td>673.0</td>\n",
       "      <td>26.0</td>\n",
       "      <td>418.0</td>\n",
       "      <td>36219.0</td>\n",
       "      <td>190.0</td>\n",
       "      <td>33.0</td>\n",
       "      <td>797.0</td>\n",
       "      <td>28.0</td>\n",
       "      <td>16229.0</td>\n",
       "      <td>34545912.0</td>\n",
       "      <td>5878.0</td>\n",
       "    </tr>\n",
       "    <tr>\n",
       "      <td>ultra</td>\n",
       "      <td>73.0</td>\n",
       "      <td>1929.0</td>\n",
       "      <td>44.0</td>\n",
       "      <td>527.0</td>\n",
       "      <td>100874.0</td>\n",
       "      <td>318.0</td>\n",
       "      <td>49.0</td>\n",
       "      <td>2285.0</td>\n",
       "      <td>48.0</td>\n",
       "      <td>19487.0</td>\n",
       "      <td>101935624.0</td>\n",
       "      <td>10096.0</td>\n",
       "    </tr>\n",
       "  </tbody>\n",
       "</table>\n",
       "</div>"
      ],
      "text/plain": [
       "            calls_count               calls_duration                   \\\n",
       "                   mean     var   std           mean       var    std   \n",
       "tariff_name                                                             \n",
       "smart              58.0   673.0  26.0          418.0   36219.0  190.0   \n",
       "ultra              73.0  1929.0  44.0          527.0  100874.0  318.0   \n",
       "\n",
       "            messages_count               mb_used_sum                        \n",
       "                      mean     var   std        mean          var      std  \n",
       "tariff_name                                                                 \n",
       "smart                 33.0   797.0  28.0     16229.0   34545912.0   5878.0  \n",
       "ultra                 49.0  2285.0  48.0     19487.0  101935624.0  10096.0  "
      ]
     },
     "execution_count": 55,
     "metadata": {},
     "output_type": "execute_result"
    }
   ],
   "source": [
    "df_with_tariffs.groupby('tariff_name')['calls_count', \n",
    "                                       'calls_duration', \n",
    "                                       'messages_count', \n",
    "                                       'mb_used_sum'].agg(['mean', np.var, 'std']).round()"
   ]
  },
  {
   "cell_type": "markdown",
   "metadata": {},
   "source": [
    "<div class=\"alert alert-block alert-danger\">\n",
    "<b>Комментарий ревьюера</b>\n",
    "\n",
    "<s>Обрати внимание, что ты расчитала не минуты, а количество звонков в месяц. Нас больше интересует столбец calls_duration. Так как по количеству звонков у нас ограничений нет. Измени, пожалуйста, это и в графиках ниже. Или добавь еще один, как раз место осталось :)\n",
    "\n",
    "</div>\n"
   ]
  },
  {
   "cell_type": "markdown",
   "metadata": {},
   "source": [
    "<div class=\"alert alert-block alert-info\">    \n",
    "<b>Комментарий от студента:</b> Исправляюсь!) Добавила еще график по суммарной продолжительности звонка и строчку в выводе об этом.\n",
    "    \n",
    "</div>"
   ]
  },
  {
   "cell_type": "markdown",
   "metadata": {},
   "source": [
    "<div class=\"alert alert-block alert-success\">\n",
    "<b>Комментарий ревьюера (v2)</b>\n",
    "\n",
    "Все здорово. Таблицу выше можно было округлить до пары знаков после запятой, возможно, читаемость бы повысилась, тем более много знаков после запятой нам не сильно интересны.\n",
    "\n",
    "</div>\n"
   ]
  },
  {
   "cell_type": "markdown",
   "metadata": {},
   "source": [
    "\n",
    "Видим, что в среднем на тарифе \"ультра\" пользователи тратят в 1.3 раза больше минут для разговора, сообщений и трафика. При этом стандартное отклонение на тарифе \"ультра\" в среднем в 1.6 раз больше, чем у тарифа \"смарт\".\n",
    "\n",
    "Посмотрим на гистограммы по каждому столбцу."
   ]
  },
  {
   "cell_type": "code",
   "execution_count": 56,
   "metadata": {},
   "outputs": [],
   "source": [
    "tariff_smart = df_with_tariffs.loc[df_with_tariffs['tariff_name'] == 'smart'] # пользователи с тарифом 'смарт'\n",
    "\n",
    "tariff_ultra = df_with_tariffs.loc[df_with_tariffs['tariff_name'] == 'ultra'] # пользователи с тарифом 'ультра'"
   ]
  },
  {
   "cell_type": "code",
   "execution_count": 57,
   "metadata": {},
   "outputs": [
    {
     "data": {
      "image/png": "[encoded data removed]",
      "text/plain": [
       "<Figure size 1080x720 with 4 Axes>"
      ]
     },
     "metadata": {
      "needs_background": "light"
     },
     "output_type": "display_data"
    }
   ],
   "source": [
    "# построим гистограммы для кол-ва звонков, сообщений и интернета по каждому тарифу\n",
    "\n",
    "fig, axes = plt.subplots(nrows=2, ncols=2, figsize=(15, 10))\n",
    "\n",
    "axes[0,0].set_xlabel('Кол-во звонков')\n",
    "axes[0,0].set_ylabel('Частота')\n",
    "axes[0,0].set_title('Количество звонков на каждом тарифе')\n",
    "_, bins, _ = axes[0,0].hist(tariff_smart['calls_count'], \n",
    "                            bins=20, \n",
    "                            alpha=0.5, \n",
    "                            label = 'smart')\n",
    "axes[0,0].hist(tariff_ultra['calls_count'],\n",
    "              bins=bins,\n",
    "              alpha=0.5,\n",
    "              label = 'ultra')\n",
    "axes[0,0].legend(title=\"Тарифы\")\n",
    "\n",
    "\n",
    "axes[0,1].set_xlabel('Кол-во сообщений')\n",
    "axes[0,1].set_ylabel('Частота')\n",
    "axes[0,1].set_title('Количество сообщений на каждом тарифе')\n",
    "_, bins, _ = axes[0,1].hist(tariff_smart['messages_count'], \n",
    "                            bins=20, \n",
    "                            alpha=0.5, \n",
    "                            label = 'smart')\n",
    "axes[0,1].hist(tariff_ultra['messages_count'],\n",
    "              bins=bins,\n",
    "              alpha=0.5,\n",
    "              label = 'ultra')\n",
    "axes[0,1].legend(title=\"Тарифы\")\n",
    "\n",
    "\n",
    "axes[1,0].set_xlabel('Объем интернет-трафика, мб')\n",
    "axes[1,0].set_ylabel('Частота')\n",
    "axes[1,0].set_title('Объем интернет-трафика на каждом тарифе')\n",
    "_, bins, _ = axes[1,0].hist(tariff_smart['mb_used_sum'], \n",
    "                            bins=20, \n",
    "                            alpha=0.5, \n",
    "                            label = 'smart')\n",
    "axes[1,0].hist(tariff_ultra['mb_used_sum'],\n",
    "              bins=bins,\n",
    "              alpha=0.5,\n",
    "              label = 'ultra')\n",
    "axes[1,0].legend(title=\"Тарифы\")\n",
    "\n",
    "axes[1,1].set_xlabel('Суммарная продолжительность звонка, мин')\n",
    "axes[1,1].set_ylabel('Частота')\n",
    "axes[1,1].set_title('Суммарная продолжительность звонка на каждом тарифе')\n",
    "_, bins, _ = axes[1,1].hist(tariff_smart['calls_duration'], \n",
    "                            bins=20, \n",
    "                            alpha=0.5, \n",
    "                            label = 'smart')\n",
    "axes[1,1].hist(tariff_ultra['calls_duration'],\n",
    "              bins=bins,\n",
    "              alpha=0.5,\n",
    "              label = 'ultra')\n",
    "axes[1,1].legend(title=\"Тарифы\")\n",
    "\n",
    "plt.subplots_adjust(wspace=0.3, hspace=0.6) # задаем отступы\n",
    "plt.show()"
   ]
  },
  {
   "cell_type": "markdown",
   "metadata": {},
   "source": [
    "*Кол-во звонков:*\n",
    "\n",
    "Имеет нормальное распределение по обоим тарифам. У распределения тарифа \"ультра\" длинный правый хвост. \n",
    "Видим, что до 100 звонков в месяц гораздо больше у пользователей тарифа \"смарт\". Но более 100 звонков в месяц уже у пользователей тарифом \"ультра\". Более 150 звонков в месяц у пользователей тарифом \"смарт\" уже практически нет.\n",
    "\n",
    "\n",
    "*Кол-во сообщений:*\n",
    "\n",
    "Распределение смещено влево.\n",
    "Аналогично, до 100 сообщений в основном пишут на тарифе \"смарт\". А если сообщений написано более 100-115, то тут уже преобладает тариф \"ультра\". По гистограмме видно, что мало людей пишут много сообщений. Это и понятно, есть же соц.сети=)\n",
    "\n",
    "\n",
    "*Объем интернет-трафика:*\n",
    "\n",
    "Имеет нормальное распределение по обоим тарифам.\n",
    "До 25000мб используют в основном на тарифе \"смарт\",после 30000мб в основном используют на тарифе \"ультра\". На обоих тарифах используют одинаково мало трафика до 5000мб.\n",
    "\n",
    "\n",
    "*Суммарная продолжительность звонка*\n",
    "\n",
    "Имеет нормальное распределение с длинным правым хвостом. Это означает, что 800 мин в месяц и более разговаривают на тарифе \"ультра\". По тарифу \"смарт\" таких больших значений практически нет."
   ]
  },
  {
   "cell_type": "markdown",
   "metadata": {},
   "source": [
    "<div class=\"alert alert-block alert-success\">\n",
    "<b>Комментарий ревьюера</b>\n",
    "\n",
    "Отлично выполненный шаг.\n",
    "\n",
    "</div>\n"
   ]
  },
  {
   "cell_type": "markdown",
   "metadata": {},
   "source": [
    "<div class=\"alert alert-block alert-warning\">\n",
    "<b>Комментарий ревьюера</b>\n",
    "\n",
    "Также в качестве дополнения шага могу посоветовать проанилизировать выручку, построить графики, найти общие выручки по тарифам за год - не повлияют ли эти данные на общие выводы?\n",
    "\n",
    "</div>\n"
   ]
  },
  {
   "cell_type": "markdown",
   "metadata": {},
   "source": [
    "<div class=\"alert alert-block alert-info\">    \n",
    "<b>Комментарий от студента:</b> Ниже добавила анализ выручки по каждому тарифу.\n",
    "    \n",
    "</div>"
   ]
  },
  {
   "cell_type": "markdown",
   "metadata": {},
   "source": [
    "Проанализируем выручку по каждому тарифу. Построим гистограммы."
   ]
  },
  {
   "cell_type": "code",
   "execution_count": 58,
   "metadata": {},
   "outputs": [
    {
     "data": {
      "text/plain": [
       "tariff_name\n",
       "smart    1233.349412\n",
       "ultra    2060.530000\n",
       "Name: receipts, dtype: float64"
      ]
     },
     "execution_count": 58,
     "metadata": {},
     "output_type": "execute_result"
    }
   ],
   "source": [
    "# рассчет средней месячной выручке для каждого тарифа\n",
    "\n",
    "df_with_tariffs.groupby('tariff_name')['receipts'].mean()"
   ]
  },
  {
   "cell_type": "markdown",
   "metadata": {},
   "source": [
    "Для данной выборке из 500 пользователей средняя ежемесячная выручка на тарифе \"ультра\" почти в два раза выше. Посмотрим на распределение выручки по каждому тарифу."
   ]
  },
  {
   "cell_type": "code",
   "execution_count": 59,
   "metadata": {
    "scrolled": true
   },
   "outputs": [
    {
     "data": {
      "image/png": "[encoded data removed]",
      "text/plain": [
       "<Figure size 720x360 with 1 Axes>"
      ]
     },
     "metadata": {
      "needs_background": "light"
     },
     "output_type": "display_data"
    }
   ],
   "source": [
    "plt.figure(figsize =(10, 5))\n",
    "\n",
    "_, bins, _ = plt.hist(tariff_smart['receipts'],\n",
    "        bins=100,\n",
    "        alpha=0.5,\n",
    "        label='smart')\n",
    "plt.xlabel('Месячная выручка, руб.')\n",
    "plt.ylabel('Частота')\n",
    "\n",
    "plt.hist(tariff_ultra['receipts'],\n",
    "        bins=bins,\n",
    "        alpha=0.5,\n",
    "        label='ultra')\n",
    "plt.xlabel('Месячная выручка, руб.')\n",
    "plt.ylabel('Частота')\n",
    "\n",
    "plt.title('Распределение месячной выручки по каждому тарифу')\n",
    "plt.legend(title=\"Тарифы\")\n",
    "plt.show()"
   ]
  },
  {
   "cell_type": "markdown",
   "metadata": {},
   "source": [
    "Видим, что у тарифа \"смарт\" в основном выручка от 500 до 3000 руб в месяц, при этом у тарифа \"ультра\" выручка выше и начинается от 2000руб. Это и понятно, т.к. тариф ультра стоит 1950руб."
   ]
  },
  {
   "cell_type": "code",
   "execution_count": 60,
   "metadata": {},
   "outputs": [
    {
     "name": "stdout",
     "output_type": "stream",
     "text": [
      "Максимальная месячная выручка на тарифе смарт: 6711.02\n",
      "Максимальная месячная выручка на тарифе ультра: 4743.31\n"
     ]
    }
   ],
   "source": [
    "print('Максимальная месячная выручка на тарифе смарт:', tariff_smart['receipts'].max())\n",
    "print('Максимальная месячная выручка на тарифе ультра:', tariff_ultra['receipts'].max())\n",
    "       "
   ]
  },
  {
   "cell_type": "markdown",
   "metadata": {},
   "source": [
    "Интересно, что на тарифе \"смарт\" максимальная выручка больше. По гистограмме видно, что это единичные случаи."
   ]
  },
  {
   "cell_type": "markdown",
   "metadata": {},
   "source": [
    "<b><font size=3>Вывод</font></b><br/>\n",
    "\n",
    "По всем четырем параметрам: кол-во звонков, кол-во сообщений и объем интернет-трафика, суммарная продолжительность звонков в месяц среднее зачение выше примерно в 1,5 раза у тарифа \"ультра\". Тоже самое и со стандартным отклонение. Разброс значений у тарифа \"ультра\" также больше.\n",
    "\n",
    "По гистограммам увидели, что на тарифе \"ультра\" больше пользователей, которые много звонят(от 100 звонков в месяц), пишут много сообщений (от 100-115), имеют продолжительность звонка от 800 минут и выше и больше пользуются интернетом. Но при этом, на тарифе \"смарт\" в общем больше пользователей.\n",
    "\n",
    "По распределению выручки увидели, что у тарифа \"смарт\" в основном выручка от 500 до 3000 руб в месяц, при этом у тарифа \"ультра\" выручка выше и начинается от 2000руб. При этом на тарифе \"смарт\" максимальная выручка больше.\n",
    "\n",
    "*Гипотеза:* тариф \"ультра\" приносит больше денег. Проверим эту гипотезу в сл.блоке."
   ]
  },
  {
   "cell_type": "markdown",
   "metadata": {},
   "source": [
    "<div class=\"alert alert-block alert-success\">\n",
    "<b>Комментарий ревьюера (v2)</b>\n",
    "\n",
    "Шаг отлично дополнен.\n",
    "\n",
    "</div>\n"
   ]
  },
  {
   "cell_type": "markdown",
   "metadata": {},
   "source": [
    "<b><font size=5>4. Проверка гипотез</font></b><a name=\"4.\"></a><br/>\n",
    "[<font size=\"2\">(к содержанию)</font>](#1common.)"
   ]
  },
  {
   "cell_type": "markdown",
   "metadata": {},
   "source": [
    "<b><font size=4>4.1. Гипотеза о различии средней выручки для разных тарифов</font></b><a name=\"4.1.\"></a><br/>\n",
    "[<font size=\"2\">(к содержанию)</font>](#1common.)"
   ]
  },
  {
   "cell_type": "markdown",
   "metadata": {},
   "source": [
    "Для начала проверим одинаковые ли дисперсии у выборок, применив тест Левена. <br/>\n",
    "Гипотеза $H_0$: Дисперсии выручки для тарифа смарт и ультра равны.<br/>\n",
    "Гипотеза $H_1$: Дисперсии выручки для тарифа смарт и ультра не равны.\n",
    "\n",
    "Затем проверим равенство средних выручек у двух тарифов. <br/>\n",
    "Сформулируем <b>нулевую гипотезу:</b> *средняя выручка пользователей тарифов «Ультра» и «Смарт» не отличается.* <br/>\n",
    "<b>Альтернативная гипотеза:</b> *средняя выручка пользователей тарифов «Ультра» и «Смарт» отличается.*\n",
    "\n",
    "И займем статистической проверкой гипотез.\n"
   ]
  },
  {
   "cell_type": "markdown",
   "metadata": {},
   "source": [
    "<div class=\"alert alert-block alert-warning\">\n",
    "<b>Комментарий ревьюера</b>\n",
    "\n",
    "Также было бы здорово сформулировать и альтернативную гипотезу тоже. ✔\n",
    "\n",
    "</div>\n"
   ]
  },
  {
   "cell_type": "code",
   "execution_count": 61,
   "metadata": {},
   "outputs": [],
   "source": [
    "# создадим series по выручке для каждого тарифа\n",
    "\n",
    "receipts_smart = df_with_tariffs.loc[df_with_tariffs['tariff_name'] == 'smart', 'receipts']\n",
    "receipts_ultra = df_with_tariffs.loc[df_with_tariffs['tariff_name'] == 'ultra', 'receipts']"
   ]
  },
  {
   "cell_type": "markdown",
   "metadata": {},
   "source": [
    "<div class=\"alert alert-block alert-info\">    \n",
    "<b>Комментарий от студента:</b> Ниже добавила тест Левена про проверку равенства дисперсий и обернула два теста в функцию, т.к. использую эти два теста для разных выборок два раза.\n",
    "    \n",
    "</div>"
   ]
  },
  {
   "cell_type": "markdown",
   "metadata": {},
   "source": [
    "<div class=\"alert alert-block alert-success\">\n",
    "<b>Комментарий ревьюера (v2)</b>\n",
    "\n",
    "Молодец, что освоила и применила тест Левена!\n",
    "\n",
    "</div>\n"
   ]
  },
  {
   "cell_type": "code",
   "execution_count": 62,
   "metadata": {},
   "outputs": [],
   "source": [
    "def equal_means(a,b, alpha = 0.05):\n",
    "    \n",
    "    '''Функция сначала применяет тест Левена к двум выборка для проверки равенства дисперсий.\n",
    "    Затем исходя из равенства/различия дисперсий применяет к этим выборкам t-test.\n",
    "    '''\n",
    "    \n",
    "    results_levene = st.levene(a, b) # применяем тест Левена для проверки равенства дисперсий\n",
    "    print('p-значение:', results_levene.pvalue)\n",
    "    \n",
    "    if results_levene.pvalue < alpha:\n",
    "        print(colored(\"Отвергаем нулевую гипотезу (о дисперсии)\", 'red'))\n",
    "        equal_var = False # дисперсии выборок не равны\n",
    "    else: \n",
    "        print(colored(\"Не можем отвергнуть нулевую гипотезу (о дисперсии)\", 'green'))\n",
    "        equal_var = True # дисперсии выборок равны\n",
    "        \n",
    "    # проверка гипотезы о равенстве среднего двух генеральных совокупностей по взятым из них выборкам\n",
    "    results = st.ttest_ind(a, b, equal_var=equal_var) \n",
    "    print('p-значение:', results.pvalue)\n",
    "    \n",
    "    if results.pvalue < alpha:\n",
    "        print(colored(\"Отвергаем нулевую гипотезу\", 'red'))\n",
    "    else: \n",
    "        print(colored(\"Не можем отвергнуть нулевую гипотезу\", 'green'))"
   ]
  },
  {
   "cell_type": "code",
   "execution_count": 63,
   "metadata": {},
   "outputs": [
    {
     "name": "stdout",
     "output_type": "stream",
     "text": [
      "p-значение: 3.135578626683539e-115\n",
      "\u001b[31mОтвергаем нулевую гипотезу (о дисперсии)\u001b[0m\n",
      "p-значение: 8.930336877790439e-296\n",
      "\u001b[31mОтвергаем нулевую гипотезу\u001b[0m\n"
     ]
    }
   ],
   "source": [
    "# применяем написанную функцию к выборкам по двум тарифам\n",
    "\n",
    "equal_means(receipts_smart, receipts_ultra, alpha = 0.05)"
   ]
  },
  {
   "cell_type": "markdown",
   "metadata": {},
   "source": [
    "Согласно тесту Левена дисперсии выборок разные. Это учитываем при проведении t-теста.<br/>\n",
    "По t-тесту нулевую гипотезу о равенстве средних выручек по двум тарифам отвергаем. Значит средняя выручка по каждому тарифу существенно отличается."
   ]
  },
  {
   "cell_type": "markdown",
   "metadata": {},
   "source": [
    "<b><font size=3>Вывод</font></b><br/>\n",
    "\n",
    "Для сравнения выручки по каждому тарифу воспользовались тестом st.ttest_ind, который проверяет гипотезу о равенстве среднего двух генеральных совокупностей по взятым из них выборкам. Согласно тесту средняя выручка по каждому тарифу отличается.\n",
    "Ранее считали и увидели, что средняя ежемесячная выручка на тарифе \"ультра\" почти в два раза выше по данным из конкретной выборки.\n",
    "\n",
    "Гипотеза в выводе п.3 не отвергнута."
   ]
  },
  {
   "cell_type": "markdown",
   "metadata": {},
   "source": [
    "<b><font size=4>4.2. Гипотеза о различии средней выручки для пользователей из Москвы и из других регионов</font></b><a name=\"4.2.\"></a><br/>\n",
    "[<font size=\"2\">(к содержанию)</font>](#1common.)\n"
   ]
  },
  {
   "cell_type": "code",
   "execution_count": 64,
   "metadata": {},
   "outputs": [],
   "source": [
    "receipts_moscow = df_with_tariffs.loc[df_with_tariffs['city'] == 'Москва', 'receipts'] # пользователи из Москвы\n",
    "\n",
    "receipts_region = df_with_tariffs.loc[df_with_tariffs['city'] != 'Москва', 'receipts'] # пользователи из регионов"
   ]
  },
  {
   "cell_type": "code",
   "execution_count": 65,
   "metadata": {},
   "outputs": [
    {
     "name": "stdout",
     "output_type": "stream",
     "text": [
      "Средняя месячная выручка для пользователей из Москвы 1507.2766939443536\n",
      "Средняя месячная выручка для пользователей из регионов 1482.0637072608529\n"
     ]
    }
   ],
   "source": [
    "print('Средняя месячная выручка для пользователей из Москвы', receipts_moscow.mean())\n",
    "\n",
    "print('Средняя месячная выручка для пользователей из регионов', receipts_region.mean())"
   ]
  },
  {
   "cell_type": "markdown",
   "metadata": {},
   "source": [
    "Если просто посчитать среднее значение выручки, то они не так уж и различны для Москвы и регионов. Посмотрим что скажет тест."
   ]
  },
  {
   "cell_type": "markdown",
   "metadata": {},
   "source": [
    "<b>Нулевая гипотеза:</b> средняя выручка у пользователей из Москвы и из регионов не отличается.<br/>\n",
    "<b>Альтернативная гипотеза:</b> средняя выручка у пользователей из Москвы и из регионов отличается.<br/>"
   ]
  },
  {
   "cell_type": "code",
   "execution_count": 66,
   "metadata": {},
   "outputs": [
    {
     "name": "stdout",
     "output_type": "stream",
     "text": [
      "p-значение: 0.021465924014568014\n",
      "\u001b[31mОтвергаем нулевую гипотезу (о дисперсии)\u001b[0m\n",
      "p-значение: 0.4549784322403716\n",
      "\u001b[32mНе можем отвергнуть нулевую гипотезу\u001b[0m\n"
     ]
    }
   ],
   "source": [
    "# считаем два теста: Левена и t-тест\n",
    "\n",
    "equal_means(receipts_moscow, receipts_region, alpha = 0.05)"
   ]
  },
  {
   "cell_type": "markdown",
   "metadata": {},
   "source": [
    "Нулевую гипотезу не получилось отвергнуть. Полученное значение p-value говорит о том, что хотя средняя выручка и отличается для жителей из Москвы и из регинов, с вероятностью в 45% такое различие можно получить случайно. Это явно слишком большая вероятность, чтобы делать вывод о значимом различии между средними выручками."
   ]
  },
  {
   "cell_type": "markdown",
   "metadata": {},
   "source": [
    "<b><font size=3>Вывод</font></b><br/>\n",
    "\n",
    "Для сравнения выручки по каждому тарифу воспользовались тестом st.ttest_ind, который проверяет гипотезу о равенстве среднего двух генеральных совокупностей по взятым из них выборкам. Согласно тесту средняя выручка для Москвы и регионов не отличается. В 45% случаев различие можно получить случайно."
   ]
  },
  {
   "cell_type": "markdown",
   "metadata": {},
   "source": [
    "<div class=\"alert alert-block alert-success\">\n",
    "<b>Комментарий ревьюера</b>\n",
    "\n",
    "Гипотезы сформулированы грамотно, результаты тестов интерпретированы верно!\n",
    "\n",
    "</div>\n",
    "\n",
    "<div class=\"alert alert-block alert-warning\">\n",
    "<b>Комментарий ревьюера</b> \n",
    "    \n",
    "Также здесь у меня есть небольшое замечание по поводу выбора `equal_var = False` или `equal_var = True`. Перед проведением проверки гипотез через T-критерий Стьюдента нужно сравнить дисперсии двух выборок отдельно, и если они различаются значимо отличаются, выбираем `equal_var = False`. Это является важным критерием при проверке сборного проекта, но и в этой работе тоже стоит добавить этот шаг. Также прикладываю [ссылку](http://pytolearn.csd.auth.gr/d1-hyptest/12/ttest-indep.html) с интересным материалом по поводу проверки дисперсий и нормальности распределений (однако проверка нормальности выходит за рамки нашего курса, поэтому ее делать не нужно, это скорее для общего понимания требований к тесту) с кодом. По ссылке также есть информация, что выборки должны быть одной длины. Однако, полазив по сайтам и почитав теорию, я не нашел слов о такой необходимости. Везде есть только информация про нормальность и дисперсии.\n",
    "\n",
    "По ссылке  используется [тест Левена](https://docs.scipy.org/doc/scipy/reference/generated/scipy.stats.levene.html) перед проведением Т-теста. В некоторых статистических пакетах ([ссылка](https://habr.com/ru/sandbox/30391/) в качестве подтверждения моих слов) при проведении т-теста автоматически проводится тест Левена и на его основе выбирается параметр `equal_var`. В нашем случае приходится такое проделывать руками. Также есть и другие тесты для сравнения дисперсий, однако тест Левена является одним из наиболее универсальных для разных типов распределений.\n",
    "    \n",
    "Кстати, хочу поделиться еще одной ссылкой. Это [т-тест из другой библиотеки](https://pingouin-stats.org/generated/pingouin.ttest.html) с автоматической проверкой дисперсий (правда там немного другая логика по этому параметру, на сайте есть ссылки на теорию по этому поводу). Достаточно удобный инструмент.\n",
    "\n",
    "PS На счет нормальности. Это довольно интересный момент. Во всей информации про тест Стьюдента нормальность распределения приводится как требование. Однако, нормальность должна соблюдаться при малом количестве наблюдений в каждой выборке (до 30-40). От 50 же значений нормальность для сравнения средних значений совокупностей не играет важной роли. Здесь вступает в силу центральная предельная теорема. По данной [ссылке](https://statanaliz.info/statistica/proverka-gipotez/raspredelenie-t-kriteriya-styudenta-dlya-proverki-gipotezy-i-rascheta-doveritelnogo-intervala-v-ms-excel/) есть интересная фраза \"Таким образом, ненормальность распределения – это, конечно, нехорошо, но некритично.\" Также по [ссылке](https://drive.google.com/file/d/1SqcimkyF4iGjgT8Yhlmx-tOXV-ejmFev/view) еще один интересный материал с примерами про нормальность (на русском).\n",
    "</div>\n"
   ]
  },
  {
   "cell_type": "markdown",
   "metadata": {},
   "source": [
    "<div class=\"alert alert-block alert-info\">    \n",
    "<b>Комментарий от студента:</b> Спасибо большое за подробное объяснение и много полезных ссылок! По поводу размера выборок уточнила у Александра Сушкова. Он сказал, что тест Стьюдента сам знает сколько ему взять для сравнения случайных средних. Если бы выборки были зависимы (типа было-стало) - тогда да, а так - нет. Тоже самое по этому поводу говорит Екатерина Горленко в вебинаре.\n",
    "    \n",
    "</div>"
   ]
  },
  {
   "cell_type": "markdown",
   "metadata": {},
   "source": [
    "<div class=\"alert alert-block alert-success\">\n",
    "<b>Комментарий ревьюера (v2)</b>\n",
    "\n",
    "Рад, если смог подсказать что-то полезное 😊\n",
    "\n",
    "</div>\n"
   ]
  },
  {
   "cell_type": "markdown",
   "metadata": {},
   "source": [
    "<b><font size=5>5. Общий вывод</font></b><a name=\"5.\"></a><br/>\n",
    "[<font size=\"2\">(к содержанию)</font>](#1common.)"
   ]
  },
  {
   "cell_type": "markdown",
   "metadata": {},
   "source": [
    "<b>Изучив данные 500 пользователей «Мегалайна» были сделаны сл.выводы:</b>\n",
    "\n",
    "* Из 500 пользователей в выборке 70% - это пользователи тарифом \"смарт\", 30% - тарифом \"ультра\". Все пользователи подключились в 2018г. Из них на момент выгрузки данных 92% являются абонентами компании, 8% - отключили услуги компании.\n",
    "\n",
    "* В среднем на тарифе \"ультра\" пользователи тратят в 1.3 раза больше минут для разговора, сообщений и трафика.\n",
    "\n",
    "* На тарифе \"ультра\" больше пользователей, которые много звонят(от 100 звонков в месяц), пишут много сообщений (от 100-115), разговаривают от 800 минут в месяц и больше пользуются интернетом. Но при этом, на тарифе \"смарт\" в общем больше пользователей с меньшим кол-вом звонков, сообщений и интернета.\n",
    "\n",
    "<b>Было проверено две гипотезы:</b>\n",
    "\n",
    "1) Средняя выручка пользователей тарифов «Ультра» и «Смарт» не отличается. Эта гипотеза была отвергнута по результатам t-теста. Средняя выручка на тарифах существенно различается. Посчитав среднюю выручку по каждому тарифу по данным 500 пользователей увидели, что у тарифа \"ультра\" выручка почти в 2 раза выше.\n",
    "\n",
    "2) Средняя выручка у пользователей из Москвы и из регионов не отличается. Гипотеза не отвергнута. Согласно тесту средняя выручка для Москвы и регионов не отличается. В 33% случаев различие можно получить случайно.\n",
    "\n",
    "<b>Была продела сл.работа с данными:</b>\n",
    "\n",
    "* Во многих столбцах изменены типы данных на соответствующие данным в столбце и для того, чтобы снизить потребление памяти.\n",
    "* Добавлены новые данные в разбивке по месяцам: кол-во звонков, сообщений, объем интернет-трафика, выручка по каждому пользователю.\n",
    "\n",
    "<b>Рекоменации:</b>\n",
    "\n",
    "В результате анализа двух тарифов было выяснено, что тариф \"ультра\" приносит больше денег компании. В связи с этим рекомендуется скорректировать рекламный бюджет в пользу тарифа \"ультра\" в 2019г."
   ]
  },
  {
   "cell_type": "markdown",
   "metadata": {},
   "source": [
    "<div class=\"alert alert-block alert-success\">\n",
    "<b>Комментарий ревьюера</b>\n",
    "\n",
    "Общий вывод хороший.\n",
    "\n",
    "</div>\n",
    "\n",
    "<div class=\"alert alert-block alert-danger\">\n",
    "<b>Комментарий ревьюера</b>\n",
    "\n",
    "<s>Также стоит четко ответить на вопрос - какой тариф лучше, либо же другими словами, какой тариф приносит больше денег компании.✔\n",
    "\n",
    "</div>\n",
    "\n",
    "<div class=\"alert alert-block alert-warning\">\n",
    "<b>Комментарий ревьюера</b>\n",
    "\n",
    "Также было бы здорово добавить также рекомендацию - на какой их тарифов сделать упор в рекламной кампании на 2019 год.✔\n",
    "\n",
    "</div>\n"
   ]
  },
  {
   "cell_type": "markdown",
   "metadata": {},
   "source": [
    "<div class=\"alert alert-block alert-success\">\n",
    "<b>Комментарий ревьюера (v2)</b>\n",
    "\n",
    "👍\n",
    "\n",
    "</div>\n"
   ]
  }
 ],
 "metadata": {
  "kernelspec": {
   "display_name": "Python 3",
   "language": "python",
   "name": "python3"
  },
  "language_info": {
   "codemirror_mode": {
    "name": "ipython",
    "version": 3
   },
   "file_extension": ".py",
   "mimetype": "text/x-python",
   "name": "python",
   "nbconvert_exporter": "python",
   "pygments_lexer": "ipython3",
   "version": "3.7.3"
  },
  "toc": {
   "base_numbering": 1,
   "nav_menu": {},
   "number_sections": true,
   "sideBar": true,
   "skip_h1_title": true,
   "title_cell": "Table of Contents",
   "title_sidebar": "Contents",
   "toc_cell": false,
   "toc_position": {},
   "toc_section_display": true,
   "toc_window_display": false
  }
 },
 "nbformat": 4,
 "nbformat_minor": 2
}
